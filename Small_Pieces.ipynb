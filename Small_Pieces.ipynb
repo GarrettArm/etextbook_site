{
 "cells": [
  {
   "cell_type": "markdown",
   "metadata": {},
   "source": [
    "## Publisher Spreadsheets"
   ]
  },
  {
   "cell_type": "code",
   "execution_count": null,
   "metadata": {},
   "outputs": [],
   "source": [
    "import importlib\n",
    "import os\n",
    "\n",
    "import parse_publisher_sheets as Publishers\n",
    "importlib.reload(Publishers)"
   ]
  },
  {
   "cell_type": "code",
   "execution_count": null,
   "metadata": {},
   "outputs": [],
   "source": [
    "all_publ_dicts = Publishers.main()"
   ]
  },
  {
   "cell_type": "code",
   "execution_count": null,
   "metadata": {
    "collapsed": true
   },
   "outputs": [],
   "source": [
    "publ_isbns_set = Publishers.make_set_all_isbns(all_publ_dicts)"
   ]
  },
  {
   "cell_type": "markdown",
   "metadata": {},
   "source": [
    "## Bookstore csv"
   ]
  },
  {
   "cell_type": "code",
   "execution_count": null,
   "metadata": {
    "collapsed": true
   },
   "outputs": [],
   "source": [
    "import re\n",
    "import parse_bookstore_csv as Bookstore\n",
    "\n",
    "ISBNregex = re.compile(r'(\\b\\d{13}\\b)|(\\b\\d{9}[\\d|X]\\b)')\n",
    "\n",
    "bookstore_csv_as_list = Bookstore.cleanup_original_text('output/Summerbookstore2017.csv')"
   ]
  },
  {
   "cell_type": "code",
   "execution_count": null,
   "metadata": {
    "collapsed": true
   },
   "outputs": [],
   "source": [
    "bookstore_isbns = {row[7].replace('-', ''): row for row in bookstore_csv_as_list if ISBNregex.match(row[7].replace('-', ''))}"
   ]
  },
  {
   "cell_type": "markdown",
   "metadata": {},
   "source": [
    "## Symphony isbns\n"
   ]
  },
  {
   "cell_type": "code",
   "execution_count": null,
   "metadata": {},
   "outputs": [],
   "source": [
    "ISBNregex = re.compile(r'(\\b\\d{13}\\b)|(\\b\\d{9}[\\d|X]\\b)')\n",
    "\n",
    "def findISBNs(filepath, filename):\n",
    "    isbns = []\n",
    "    full_filepath = os.path.join(filepath, filename)\n",
    "    with open(full_filepath, \"r\", encoding=\"utf-8\", errors=\"surrogateescape\") as isbn_lines:\n",
    "        read_data = isbn_lines.readlines()\n",
    "    for line in read_data:\n",
    "        isbns.extend(ISBNregex.findall(line))\n",
    "    stripped = set()\n",
    "    stripped = {isbn.replace('-', '') for tuple_group in isbns for isbn in tuple_group if isbn}\n",
    "    return stripped\n",
    "\n",
    "Symphony_isbns = findISBNs('output', 'symphony.txt')"
   ]
  },
  {
   "cell_type": "markdown",
   "metadata": {},
   "source": [
    "## Worldcat expanding bookstore isbns"
   ]
  },
  {
   "cell_type": "code",
   "execution_count": null,
   "metadata": {},
   "outputs": [],
   "source": [
    "import findEtextbooks as Combine\n",
    "\n",
    "importlib.reload(Combine)"
   ]
  },
  {
   "cell_type": "code",
   "execution_count": null,
   "metadata": {},
   "outputs": [],
   "source": [
    "sets_of_similar_isbns = list()\n",
    "for isbn in set(bookstore_isbns.keys()):\n",
    "    set_of_similar_isbns = Combine.find_similar_isbns(isbn)\n",
    "    sets_of_similar_isbns.append(set_of_similar_isbns)\n",
    "xCourseISBNs = Combine.flatten_set_of_sets(sets_of_similar_isbns)"
   ]
  },
  {
   "cell_type": "code",
   "execution_count": null,
   "metadata": {
    "collapsed": true
   },
   "outputs": [],
   "source": [
    "def show_similar_isbns(isbn):\n",
    "    for similar_set in sets_of_similar_isbns:\n",
    "        if isbn in similar_set:\n",
    "            return similar_set\n",
    "    "
   ]
  },
  {
   "cell_type": "markdown",
   "metadata": {},
   "source": [
    "## Course Catalog"
   ]
  },
  {
   "cell_type": "code",
   "execution_count": null,
   "metadata": {},
   "outputs": [],
   "source": [
    "import parse_course_catalog as CourseCatalog\n",
    "\n",
    "course_file = 'course_listings/2017/Summer_2017/MUSIC3S17A.txt'\n",
    "\n",
    "course_nts, season_dept = CourseCatalog.parse_course_listing_texts(course_file)"
   ]
  },
  {
   "cell_type": "code",
   "execution_count": null,
   "metadata": {},
   "outputs": [],
   "source": [
    "def lookup_course_catalog_item(bookstore_item_dict, year, season):\n",
    "    filepath = os.path.join('course_listings', year, season)\n",
    "    if not os.path.isdir(filepath):\n",
    "        print('year must be among: {}'.format(', '.join(i for i in os.listdir(course_listings))))\n",
    "    for root, dirs, files in os.walk(filepath):\n",
    "        for file in files:\n",
    "            sought_dept = bookstore_item_dict.get('Dept/Course').split(' ')[0]\n",
    "            if sought_dept in file:\n",
    "                filepath = os.path.join(root, file)\n",
    "                course_nts, season_dept = CourseCatalog.parse_course_listing_texts(filepath)\n",
    "                return [course_nt for course_nt in course_nts\n",
    "                        if course_nt.abbr_num.replace(' ', '') == bookstore_item_dict['Dept/Course'].replace(' ', '')]"
   ]
  },
  {
   "cell_type": "code",
   "execution_count": null,
   "metadata": {},
   "outputs": [],
   "source": [
    "bookstore_item = {'Publisher': 'TAYLOR', \n",
    "                  'RcCd': 'RQ',\n",
    "                  'STS': '',\n",
    "                  'Author': 'CORNELIUS',\n",
    "                  'empty1': '',\n",
    "                  'Title': 'MUSIC   -TEXT',\n",
    "                  'ISBN': '978-0-13-601750-9',\n",
    "                  'Dept/Course': 'MUS 1751',\n",
    "                  'empty2': '',\n",
    "                  'Professor': 'Perry',\n",
    "                  'Section': '3'}\n",
    "\n",
    "year = '2017'\n",
    "season = 'Summer_2017'\n",
    "\n",
    "lookup_course_catalog_item(bookstore_item, year, season)"
   ]
  },
  {
   "cell_type": "markdown",
   "metadata": {},
   "source": [
    "## Ebsco Discovery"
   ]
  },
  {
   "cell_type": "code",
   "execution_count": null,
   "metadata": {
    "collapsed": true
   },
   "outputs": [],
   "source": [
    "import ebsco_discovery_functions as Discovery"
   ]
  },
  {
   "cell_type": "code",
   "execution_count": null,
   "metadata": {
    "collapsed": true
   },
   "outputs": [],
   "source": [
    "import json\n",
    "\n",
    "response = Discovery.main('9780136017509')\n",
    "response_json = json.dumps(json.loads(response), sort_keys=True, indent=2)\n",
    "print(response_json)"
   ]
  },
  {
   "cell_type": "markdown",
   "metadata": {},
   "source": [
    "## Show all we know about an isbn"
   ]
  },
  {
   "cell_type": "code",
   "execution_count": null,
   "metadata": {
    "scrolled": false
   },
   "outputs": [],
   "source": [
    "isbn = '9780136017509'\n",
    "\n",
    "\n",
    "print('bookstore isbn:', isbn)\n",
    "print('similar isbns:', show_similar_isbns(isbn), '\\n')\n",
    "if show_similar_isbns(isbn):\n",
    "    for isbn in show_similar_isbns(isbn):\n",
    "        is_snippet_in_publisher_files_field(isbn, 'isbn')\n",
    "        print('\\n')\n",
    "        pub_item = publ_isbns_set.get(isbn)\n",
    "        if pub_item:\n",
    "            print(\"From Publisher websites:\", pub_item, '\\n')\n",
    "bookstore_item = bookstore_isbns.get(isbn)\n",
    "if bookstore_item:\n",
    "    bookstore_headers = ('Dept/Course', 'Section', 'empty1', 'Professor',\n",
    "   'Author', 'Title', 'empty2', 'ISBN', 'Publisher', 'RcCd', 'STS')\n",
    "    bookstore_item_dict = {k: v for k, v in zip(bookstore_headers, bookstore_item)}\n",
    "    print(\"From the B&N Bookstore csv:\", bookstore_item_dict, \"\\n\")\n",
    "    print('\\n')\n",
    "    print(\"From Course Catalog:\", lookup_course_catalog_item(bookstore_item_dict), '\\n')\n",
    "print('\\n')"
   ]
  },
  {
   "cell_type": "code",
   "execution_count": null,
   "metadata": {
    "collapsed": true
   },
   "outputs": [],
   "source": [
    "\n",
    "\n"
   ]
  },
  {
   "cell_type": "code",
   "execution_count": null,
   "metadata": {},
   "outputs": [],
   "source": [
    "def is_snippet_in_publisher_files_field(snippet, field):\n",
    "    for filename, sheets in all_publ_dicts.items():\n",
    "        for sheetname, textbooks in sheets.items():\n",
    "            for textbook, descriptor in textbooks.items():\n",
    "                for attribute, value in descriptor.items():\n",
    "                    if field.lower() in attribute.lower():\n",
    "                        if isinstance(value, str):\n",
    "                            if snippet.lower() in value.lower():\n",
    "                                print(descriptor)\n",
    "    print('no such \"{}\" in an Publishers spreadsheetfield with \"{}\" in the name'.format(snippet, field))\n",
    "\n",
    "is_snippet_in_publisher_files_field('9780136017509', 'isbn')"
   ]
  },
  {
   "cell_type": "code",
   "execution_count": null,
   "metadata": {
    "collapsed": true
   },
   "outputs": [],
   "source": [
    "def multiple_isbns():\n",
    "    pub_expanded_isbns = []\n",
    "    for filename, sheets in all_publ_dicts.items():\n",
    "        for sheetname, textbooks in sheets.items():\n",
    "            for textbook, descriptor in textbooks.items():\n",
    "                alternate_isbns = [i for i in descriptor if 'isbn' in i.lower()]\n",
    "                if len(alternate_isbns) > 1:\n",
    "                    pub_expanded_isbns.append(alternate_isbns)\n",
    "    return pub_expanded_isbns\n",
    "\n",
    "pub_expanded_isbns = multiple_isbns()\n",
    "                        "
   ]
  }
 ],
 "metadata": {
  "kernelspec": {
   "display_name": "Python 3",
   "language": "python",
   "name": "python3"
  },
  "language_info": {
   "codemirror_mode": {
    "name": "ipython",
    "version": 3
   },
   "file_extension": ".py",
   "mimetype": "text/x-python",
   "name": "python",
   "nbconvert_exporter": "python",
   "pygments_lexer": "ipython3",
   "version": "3.5.2"
  }
 },
 "nbformat": 4,
 "nbformat_minor": 2
}
