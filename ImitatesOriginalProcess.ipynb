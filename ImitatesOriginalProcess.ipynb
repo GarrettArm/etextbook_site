{
 "cells": [
  {
   "cell_type": "code",
   "execution_count": null,
   "metadata": {
    "collapsed": true
   },
   "outputs": [],
   "source": [
    "import parse_publisher_sheets as Publishers"
   ]
  },
  {
   "cell_type": "code",
   "execution_count": null,
   "metadata": {
    "collapsed": false
   },
   "outputs": [],
   "source": [
    "all_publ_dicts = Publishers.main()"
   ]
  },
  {
   "cell_type": "code",
   "execution_count": null,
   "metadata": {
    "collapsed": false
   },
   "outputs": [],
   "source": [
    "all_isbns_set = Publishers.make_set_all_isbns(all_publ_dicts)"
   ]
  },
  {
   "cell_type": "code",
   "execution_count": null,
   "metadata": {
    "collapsed": true
   },
   "outputs": [],
   "source": [
    "with open('publisher_lists_isbns.txt', 'w', encoding='utf-8') as f:\n",
    "    f.write('\\n'.join(all_isbns_set))"
   ]
  },
  {
   "cell_type": "code",
   "execution_count": null,
   "metadata": {
    "collapsed": false
   },
   "outputs": [],
   "source": [
    "import re\n",
    "import parse_bookstore_csv as Bookstore\n",
    "\n",
    "ISBNregex = re.compile(r'(\\b\\d{13}\\b)|(\\b\\d{9}[\\d|X]\\b)')\n",
    "\n",
    "bookstore_csv_as_list = Bookstore.cleanup_original_text('BookstoreFiles/Summer2017BookList.csv')"
   ]
  },
  {
   "cell_type": "code",
   "execution_count": null,
   "metadata": {
    "collapsed": true
   },
   "outputs": [],
   "source": [
    "bookstore_isbns = {row[7].replace('-', '') for row in bookstore_csv_as_list if ISBNregex.match(row[7].replace('-', ''))}"
   ]
  },
  {
   "cell_type": "code",
   "execution_count": null,
   "metadata": {
    "collapsed": false
   },
   "outputs": [],
   "source": [
    "bookstore_isbns"
   ]
  },
  {
   "cell_type": "code",
   "execution_count": null,
   "metadata": {
    "collapsed": true
   },
   "outputs": [],
   "source": [
    "with open('summer2017_bookstore_isbns.txt', 'w', encoding='utf-8') as f:\n",
    "    f.write('\\n'.join(bookstore_isbns))"
   ]
  },
  {
   "cell_type": "code",
   "execution_count": null,
   "metadata": {
    "collapsed": true
   },
   "outputs": [],
   "source": []
  },
  {
   "cell_type": "code",
   "execution_count": null,
   "metadata": {
    "collapsed": false
   },
   "outputs": [],
   "source": [
    "import findEtextbooks as Combine\n",
    "import importlib\n",
    "importlib.reload(Combine)"
   ]
  },
  {
   "cell_type": "code",
   "execution_count": null,
   "metadata": {
    "collapsed": false
   },
   "outputs": [],
   "source": [
    "pubISBNs = all_isbns_set\n",
    "courseISBNs = bookstore_isbns\n",
    "catISBNs = Combine.findISBNs('CatalogFiles', 'SSH_ISBNs.txt')"
   ]
  },
  {
   "cell_type": "code",
   "execution_count": null,
   "metadata": {
    "collapsed": false
   },
   "outputs": [],
   "source": [
    "len(catISBNs), len(courseISBNs), len(pubISBNs)"
   ]
  },
  {
   "cell_type": "code",
   "execution_count": null,
   "metadata": {
    "collapsed": false
   },
   "outputs": [],
   "source": [
    "xCourseISBNs = Combine.expand_ISBN_set(courseISBNs)"
   ]
  },
  {
   "cell_type": "code",
   "execution_count": null,
   "metadata": {
    "collapsed": false
   },
   "outputs": [],
   "source": [
    "matches = pubISBNs.intersection(catISBNs).intersection(xCourseISBNs)\n",
    "needToBuy = pubISBNs.difference(catISBNs).intersection(xCourseISBNs)\n",
    "notDRMfree = catISBNs.difference(pubISBNs).intersection(xCourseISBNs)"
   ]
  },
  {
   "cell_type": "code",
   "execution_count": null,
   "metadata": {
    "collapsed": false
   },
   "outputs": [],
   "source": [
    "import os\n",
    "os.makedirs('output/toEmily', exist_ok=True)\n",
    "matches_data = Combine.getMetadata(matches)\n",
    "Combine.write_csv(matches_data, \"output/toEmily/matches.csv\")\n",
    "need_to_buy = Combine.getMetadata(needToBuy)\n",
    "Combine.write_csv(need_to_buy, \"output/toEmily/needToBuy.csv\")\n",
    "not_drm_free = Combine.getMetadata(notDRMfree)\n",
    "Combine.write_csv(not_drm_free, \"output/toEmily/notDRMfree.csv\")"
   ]
  },
  {
   "cell_type": "code",
   "execution_count": null,
   "metadata": {
    "collapsed": false
   },
   "outputs": [],
   "source": [
    "matches_data"
   ]
  },
  {
   "cell_type": "code",
   "execution_count": null,
   "metadata": {
    "collapsed": false
   },
   "outputs": [],
   "source": [
    "need_to_buy"
   ]
  },
  {
   "cell_type": "code",
   "execution_count": null,
   "metadata": {
    "collapsed": false
   },
   "outputs": [],
   "source": [
    "not_drm_free"
   ]
  },
  {
   "cell_type": "code",
   "execution_count": null,
   "metadata": {
    "collapsed": true
   },
   "outputs": [],
   "source": []
  }
 ],
 "metadata": {
  "kernelspec": {
   "display_name": "Python 3",
   "language": "python",
   "name": "python3"
  },
  "language_info": {
   "codemirror_mode": {
    "name": "ipython",
    "version": 3
   },
   "file_extension": ".py",
   "mimetype": "text/x-python",
   "name": "python",
   "nbconvert_exporter": "python",
   "pygments_lexer": "ipython3",
   "version": "3.5.2"
  }
 },
 "nbformat": 4,
 "nbformat_minor": 2
}
