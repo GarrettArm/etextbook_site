{
 "cells": [
  {
   "cell_type": "markdown",
   "metadata": {},
   "source": [
    "## Publisher Spreadsheets"
   ]
  },
  {
   "cell_type": "code",
   "execution_count": null,
   "metadata": {},
   "outputs": [],
   "source": [
    "import importlib\n",
    "\n",
    "import parse_publisher_sheets as Publishers\n",
    "importlib.reload(Publishers)"
   ]
  },
  {
   "cell_type": "code",
   "execution_count": null,
   "metadata": {},
   "outputs": [],
   "source": [
    "all_publ_dicts = Publishers.main()"
   ]
  },
  {
   "cell_type": "code",
   "execution_count": null,
   "metadata": {
    "collapsed": true
   },
   "outputs": [],
   "source": [
    "publ_isbns_set = Publishers.make_set_all_isbns(all_publ_dicts)"
   ]
  },
  {
   "cell_type": "markdown",
   "metadata": {},
   "source": [
    "## Bookstore csv"
   ]
  },
  {
   "cell_type": "code",
   "execution_count": null,
   "metadata": {
    "collapsed": true
   },
   "outputs": [],
   "source": [
    "import re\n",
    "import parse_bookstore_csv as Bookstore\n",
    "\n",
    "ISBNregex = re.compile(r'(\\b\\d{13}\\b)|(\\b\\d{9}[\\d|X]\\b)')\n",
    "\n",
    "bookstore_csv_as_list = Bookstore.cleanup_original_text('output/Summerbookstore2017.csv')"
   ]
  },
  {
   "cell_type": "code",
   "execution_count": null,
   "metadata": {
    "collapsed": true
   },
   "outputs": [],
   "source": [
    "bookstore_isbns = {row[7].replace('-', ''): row for row in bookstore_csv_as_list if ISBNregex.match(row[7].replace('-', ''))}"
   ]
  },
  {
   "cell_type": "markdown",
   "metadata": {},
   "source": []
  },
  {
   "cell_type": "markdown",
   "metadata": {},
   "source": [
    "## findEtextbooks.py functions"
   ]
  },
  {
   "cell_type": "code",
   "execution_count": null,
   "metadata": {},
   "outputs": [],
   "source": [
    "import findEtextbooks as Combine\n",
    "\n",
    "importlib.reload(Combine)"
   ]
  },
  {
   "cell_type": "code",
   "execution_count": null,
   "metadata": {},
   "outputs": [],
   "source": [
    "pubISBNs = set(publ_isbns_set.keys())\n",
    "courseISBNs = set(bookstore_isbns.keys())\n",
    "catISBNs = Combine.findISBNs('CatalogFiles', 'SSH_ISBNs.txt')\n",
    "# catISBNs = Combine.findISBNs('CatalogFiles', 'GUI_ISBNs.txt')"
   ]
  },
  {
   "cell_type": "code",
   "execution_count": null,
   "metadata": {},
   "outputs": [],
   "source": [
    "len(catISBNs), len(courseISBNs), len(pubISBNs)"
   ]
  },
  {
   "cell_type": "code",
   "execution_count": null,
   "metadata": {
    "collapsed": true
   },
   "outputs": [],
   "source": [
    "def is_snippet_in_publisher_files_field(snippet, field):\n",
    "    for filename, sheets in all_publ_dicts.items():\n",
    "        for sheetname, textbooks in sheets.items():\n",
    "            for textbook, descriptor in textbooks.items():\n",
    "                for attribute, value in descriptor.items():\n",
    "                    if field.lower() in attribute.lower():\n",
    "                        if isinstance(value, str):\n",
    "                            if snippet.lower() in value.lower():\n",
    "                                print(descriptor)\n",
    "\n",
    "is_snippet_in_publisher_files_field('9780136017509', 'isbn')"
   ]
  },
  {
   "cell_type": "code",
   "execution_count": null,
   "metadata": {
    "collapsed": true
   },
   "outputs": [],
   "source": [
    "def multiple_isbns():\n",
    "    pub_expanded_isbns = []\n",
    "    for filename, sheets in all_publ_dicts.items():\n",
    "        for sheetname, textbooks in sheets.items():\n",
    "            for textbook, descriptor in textbooks.items():\n",
    "                alternate_isbns = [i for i in descriptor if 'isbn' in i.lower()]\n",
    "                if len(alternate_isbns) > 1:\n",
    "                    pub_expanded_isbns.append(alternate_isbns)\n",
    "    return pub_expanded_isbns\n",
    "\n",
    "pub_expanded_isbns = multiple_isbns()\n",
    "                        "
   ]
  },
  {
   "cell_type": "code",
   "execution_count": null,
   "metadata": {},
   "outputs": [],
   "source": [
    "len(pub_expanded_isbns)"
   ]
  },
  {
   "cell_type": "code",
   "execution_count": null,
   "metadata": {
    "collapsed": true
   },
   "outputs": [],
   "source": [
    "isbns_not_in_gobi = [\"9780738083193\", \"9781305674172\", \"9781121838345\", \"9780544309760\", \"9781260000177\", \"9781133907664\", \"9781259314582\", \"9780536260192\", \"9781259702297\", \"9780321923752\", \"9781259708831\", \"9780738067155\", \"9780538738101\", \"9789810185060\", \"9781319053369\", \"9781305931954\", \"9789810185114\", \"9789812714114\", \"9781259664571\", \"9780133951301\", \"9789810185039\", \"9781285858265\", \"9781886553514\", \"9781626808546\", \"9781256692669\", \"9789810185107\", \"9781133074137\", \"9780738083209\", \"9789810185152\", ]"
   ]
  },
  {
   "cell_type": "code",
   "execution_count": null,
   "metadata": {
    "collapsed": true
   },
   "outputs": [],
   "source": [
    "isbn_no_gobi_preferred_format = [\"9780394722740\", \"9780133316032\", \"9780393306767\", \"9780881335408\", \"9780393311525\", \"9781555706173\", \"9780674005457\", \"9780030339875\", \"9781589481169\", \"9781585101030\", \"9781931666114\", \"9781585101023\", \"9780131497450\", \"9780131186552\", \"9780131849372\", \"9780135151037\", \"9780321596956\", \"9781433805615\", \"9781591584780\", \"9780974814056\", \"9780132333337\", \"9781608313846\", \"9780736080606\", \"9780138140007\", \"9780073401126\", \"9781424051007\", \"9781424062102\", \"9781424051014\", \"9780840033550\", \"9780132473897\", \"9781931666367\", \"9780132473989\", \"9780135024775\", \"9780132415439\", \"9780321592583\", \"9781605473178\", \"9780131849341\", \"9780137144433\", \"9789620058905\", \"9789620058899\", \"9780138015626\", \"9780078029219\", \"9780982703496\", \"9780132483544\", \"9780205096893\", \"9780194416306\", \"9781118147900\", \"9780205205165\", \"9780375432323\", \"9780757592065\", \"9780132469326\", \"9781605258027\", \"9781609139551\", \"9781609139568\", \"9781118083390\", \"9781133606499\", \"9781133956402\", \"9781118133576\", \"9780138022129\", \"9781285064079\", \"9781451176117\", \"9780132313506\", \"9780133041828\", \"9780132912747\", \"9781285194882\", \"9780321923233\", \"9780321910417\", \"9781285846859\", \"9781455704187\", \"9780133431100\", \"9781450443616\", \"9781429255264\", \"9780321928351\", \"9781935660194\", \"9780321391575\", \"9780321925718\", \"9781451177305\", \"9781447938958\", \"9781621590033\", \"9780205987498\", \"9781450424981\", \"9781284057539\", \"9781450456999\", \"9780133382259\", \"9781285867571\", \"9780133958812\", \"9780133865011\", \"9780132940405\", \"9781305272422\", \"9780133797190\", \"9780078095146\", \"9781506305288\", \"9781464135385\", \"9780194818070\", \"9781605352756\", \"9780133382143\", \"9781483359465\", \"9782761356541\", \"9780321964670\", \"9781259350825\", \"9780393283402\", \"9781498755016\", \"9781305633803\", \"9781464106644\", \"9780134027265\", \"9781259420474\", \"9781305616691\", \"9780393602630\", \"9780205964345\", \"9780134524061\", \"9781118866153\", \"9781285473291\", \"9780134701325\", \"9780133382075\", \"9780736030564\", \"9780131500457\", \"9780194369763\", \"9781621590064\", \"9781137494740\", ]"
   ]
  },
  {
   "cell_type": "code",
   "execution_count": null,
   "metadata": {
    "collapsed": true
   },
   "outputs": [],
   "source": [
    "for isbn in isbn_no_gobi_preferred_format:\n",
    "    similars = Combine.find_similar_isbns(isbn)\n",
    "    if len(similars) > 1:\n",
    "        print(isbn, similars)"
   ]
  },
  {
   "cell_type": "code",
   "execution_count": null,
   "metadata": {
    "collapsed": true
   },
   "outputs": [],
   "source": [
    "# none of the isbns_not_in_gobi are in the publisher sheets\n",
    "# none of the isbn_no_gobi_preferred_format are in the publisher sheets\n",
    "\n",
    "for isbn in isbn_no_gobi_preferred_format:\n",
    "    for pub_expanded_bunch in pub_expanded_isbns:\n",
    "        if isbn in pub_expanded_bunch:\n",
    "            print(pub_expanded_bunch)"
   ]
  },
  {
   "cell_type": "code",
   "execution_count": null,
   "metadata": {
    "collapsed": true
   },
   "outputs": [],
   "source": []
  },
  {
   "cell_type": "code",
   "execution_count": null,
   "metadata": {
    "collapsed": true
   },
   "outputs": [],
   "source": [
    "sets_of_similar_isbns = list()\n",
    "for isbn in courseISBNs:\n",
    "    set_of_similar_isbns = Combine.find_similar_isbns(isbn)\n",
    "    sets_of_similar_isbns.append(set_of_similar_isbns)\n",
    "xCourseISBNs = Combine.flatten_set_of_sets(sets_of_similar_isbns)"
   ]
  },
  {
   "cell_type": "code",
   "execution_count": null,
   "metadata": {},
   "outputs": [],
   "source": [
    "course_and_pub_set = xCourseISBNs.intersection(pubISBNs)\n",
    "course_and_cat_set = xCourseISBNs.intersection(catISBNs)\n",
    "\n",
    "print(sorted(course_and_pub_set))\n",
    "print(sorted(course_and_cat_set))"
   ]
  },
  {
   "cell_type": "code",
   "execution_count": null,
   "metadata": {
    "collapsed": true
   },
   "outputs": [],
   "source": [
    "matches = pubISBNs.intersection(catISBNs).intersection(xCourseISBNs)\n",
    "needToBuy = pubISBNs.difference(catISBNs).intersection(xCourseISBNs)\n",
    "notDRMfree = catISBNs.difference(pubISBNs).intersection(xCourseISBNs)"
   ]
  },
  {
   "cell_type": "markdown",
   "metadata": {},
   "source": [
    "## Using worldcat getMetadata API"
   ]
  },
  {
   "cell_type": "code",
   "execution_count": null,
   "metadata": {},
   "outputs": [],
   "source": [
    "import os\n",
    "os.makedirs('output/toEmily', exist_ok=True)\n",
    "matches_data = Combine.getMetadata(matches)\n",
    "need_to_buy_data = Combine.getMetadata(needToBuy)\n",
    "not_drm_free_data = Combine.getMetadata(notDRMfree)\n"
   ]
  },
  {
   "cell_type": "code",
   "execution_count": null,
   "metadata": {},
   "outputs": [],
   "source": [
    "print(matches)\n",
    "print(notDRMfree)\n",
    "print(needToBuy)"
   ]
  },
  {
   "cell_type": "code",
   "execution_count": null,
   "metadata": {},
   "outputs": [],
   "source": [
    "for group in (matches_data, need_to_buy_data, not_drm_free_data):\n",
    "    for ebook in group:\n",
    "        for k, v in ebook.items():\n",
    "            print(\"{}:\\t\\t{}\".format(k, v))\n",
    "        print('\\n')\n",
    "    print('\\n')"
   ]
  },
  {
   "cell_type": "code",
   "execution_count": null,
   "metadata": {
    "collapsed": true
   },
   "outputs": [],
   "source": [
    "def show_similar_isbns(isbn):\n",
    "    for similar_set in sets_of_similar_isbns:\n",
    "        if isbn in similar_set:\n",
    "            return similar_set\n",
    "    "
   ]
  },
  {
   "cell_type": "code",
   "execution_count": null,
   "metadata": {
    "scrolled": false
   },
   "outputs": [],
   "source": [
    "# for bunch in ('9780123819604', ):\n",
    "#     print('\\n')\n",
    "for isbn in ('9780136017509', ):\n",
    "    print('**************************')\n",
    "    print('bookstore isbn:', isbn)\n",
    "    print('similar isbns:', show_similar_isbns(isbn), '\\n')\n",
    "    if show_similar_isbns(isbn):\n",
    "        for isbn in show_similar_isbns(isbn):\n",
    "            pub_item = publ_isbns_set.get(isbn)\n",
    "            if pub_item:\n",
    "                print(\"From Publisher websites:\", pub_item, '\\n')\n",
    "    bookstore_item = bookstore_isbns.get(isbn)\n",
    "    if bookstore_item:\n",
    "        bookstore_headers = ('Dept/Course', 'Section', 'empty1', 'Professor',\n",
    "       'Author', 'Title', 'empty2', 'ISBN', 'Publisher', 'RcCd', 'STS')\n",
    "        bookstore_item_dict = {k: v for k, v in zip(bookstore_headers, bookstore_item)}\n",
    "        print(\"From the B&N Bookstore csv:\", bookstore_item_dict, \"\\n\")\n",
    "        print('\\n')\n",
    "        print(\"From Course Catalog:\", lookup_course_catalog_item(bookstore_item_dict), '\\n')\n",
    "print('\\n')"
   ]
  },
  {
   "cell_type": "code",
   "execution_count": null,
   "metadata": {
    "collapsed": true
   },
   "outputs": [],
   "source": [
    "import parse_course_catalog as CourseCatalog\n",
    "\n",
    "def lookup_course_catalog_item(bookstore_item_dict):\n",
    "    year = '2017'\n",
    "    season = 'Summer_2017'\n",
    "    for root, dirs, files in os.walk(os.path.join('course_listings', year, season)):\n",
    "        for file in files:\n",
    "            sought_dept = bookstore_item_dict.get('Dept/Course').split(' ')[0]\n",
    "            if sought_dept in file:\n",
    "                filepath = os.path.join(root, file)\n",
    "                course_nts, season_dept = CourseCatalog.parse_course_listing_texts(filepath)\n",
    "                return [course_nt for course_nt in course_nts\n",
    "                        if course_nt.abbr_num.replace(' ', '') == bookstore_item_dict['Dept/Course'].replace(' ', '')]"
   ]
  },
  {
   "cell_type": "code",
   "execution_count": null,
   "metadata": {},
   "outputs": [],
   "source": [
    "item_x = {'Publisher': 'TAYLOR', \n",
    "          'RcCd': 'RQ',\n",
    "          'STS': '',\n",
    "          'Author': 'CORNELIUS',\n",
    "          'empty1': '',\n",
    "          'Title': 'MUSIC   -TEXT',\n",
    "          'ISBN': '978-0-13-601750-9',\n",
    "          'Dept/Course': 'MUS 1751',\n",
    "          'empty2': '',\n",
    "          'Professor': 'Perry',\n",
    "          'Section': '3'}\n",
    "\n",
    "lookup_course_catalog_item(item_x)"
   ]
  },
  {
   "cell_type": "code",
   "execution_count": null,
   "metadata": {
    "collapsed": true
   },
   "outputs": [],
   "source": [
    "import ebsco_discovery_functions as Discovery"
   ]
  },
  {
   "cell_type": "code",
   "execution_count": null,
   "metadata": {
    "collapsed": true
   },
   "outputs": [],
   "source": [
    "import json\n",
    "\n",
    "response = Discovery.main('9780124104228')\n",
    "\n"
   ]
  },
  {
   "cell_type": "code",
   "execution_count": null,
   "metadata": {
    "collapsed": true
   },
   "outputs": [],
   "source": [
    "response_json = json.dumps(json.loads(response), sort_keys=True, indent=2)\n",
    "print(response_json)"
   ]
  },
  {
   "cell_type": "code",
   "execution_count": null,
   "metadata": {
    "collapsed": true
   },
   "outputs": [],
   "source": []
  },
  {
   "cell_type": "code",
   "execution_count": null,
   "metadata": {
    "collapsed": true
   },
   "outputs": [],
   "source": []
  },
  {
   "cell_type": "code",
   "execution_count": null,
   "metadata": {
    "collapsed": true
   },
   "outputs": [],
   "source": []
  },
  {
   "cell_type": "code",
   "execution_count": null,
   "metadata": {
    "collapsed": true
   },
   "outputs": [],
   "source": [
    "this_isbn = ''"
   ]
  },
  {
   "cell_type": "code",
   "execution_count": null,
   "metadata": {
    "collapsed": true
   },
   "outputs": [],
   "source": []
  },
  {
   "cell_type": "code",
   "execution_count": null,
   "metadata": {
    "collapsed": true
   },
   "outputs": [],
   "source": []
  },
  {
   "cell_type": "code",
   "execution_count": null,
   "metadata": {},
   "outputs": [],
   "source": [
    "with open('/home/francis/Downloads/SpringBookstoreList.txt', 'r') as f:\n",
    "    springlines = f.readlines()\n",
    "\n",
    "ISBNregex = re.compile(r'(\\b\\d{13}\\b)|(\\b\\d{9}[\\d|X]\\b)')\n",
    "\n",
    "spring_isbns = []\n",
    "for line in springlines:\n",
    "    spring_isbns.extend([i for tup in ISBNregex.findall(line) for i in tup if i and len(i) > 12])\n",
    "spring_isbns = list(set(spring_isbns))\n",
    "\n",
    "if '9780521776004' in spring_isbns:\n",
    "    print('yep')"
   ]
  },
  {
   "cell_type": "code",
   "execution_count": null,
   "metadata": {
    "collapsed": true
   },
   "outputs": [],
   "source": [
    "string_spring_isbns = '\\n'.join(spring_isbns)"
   ]
  },
  {
   "cell_type": "code",
   "execution_count": null,
   "metadata": {
    "collapsed": true
   },
   "outputs": [],
   "source": [
    "with open('/home/francis/Desktop/crazy_filtering_spring.txt', 'w') as f:\n",
    "    f.write(string_spring_isbns)"
   ]
  },
  {
   "cell_type": "code",
   "execution_count": null,
   "metadata": {
    "collapsed": true
   },
   "outputs": [],
   "source": []
  }
 ],
 "metadata": {
  "kernelspec": {
   "display_name": "Python 3",
   "language": "python",
   "name": "python3"
  },
  "language_info": {
   "codemirror_mode": {
    "name": "ipython",
    "version": 3
   },
   "file_extension": ".py",
   "mimetype": "text/x-python",
   "name": "python",
   "nbconvert_exporter": "python",
   "pygments_lexer": "ipython3",
   "version": "3.5.2"
  }
 },
 "nbformat": 4,
 "nbformat_minor": 2
}
