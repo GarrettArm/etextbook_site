{
 "cells": [
  {
   "cell_type": "code",
   "execution_count": null,
   "metadata": {
    "collapsed": false,
    "deletable": true,
    "editable": true
   },
   "outputs": [],
   "source": [
    "import os\n",
    "\n",
    "import pdir\n",
    "import pandas as pd"
   ]
  },
  {
   "cell_type": "code",
   "execution_count": null,
   "metadata": {
    "collapsed": false,
    "deletable": true,
    "editable": true,
    "scrolled": false
   },
   "outputs": [],
   "source": [
    "output_folders = [i for i in os.listdir('.')\n",
    "                  if os.path.isdir(os.path.abspath(i)) and '_output' in i]  "
   ]
  },
  {
   "cell_type": "code",
   "execution_count": null,
   "metadata": {
    "collapsed": false,
    "deletable": true,
    "editable": true
   },
   "outputs": [],
   "source": [
    "xl_files = [os.path.join(folder, file)\n",
    "             for folder in output_folders\n",
    "             for file in os.listdir(folder)\n",
    "             if os.path.splitext(file)[1] in ('.xlsx', '.xls')]"
   ]
  },
  {
   "cell_type": "code",
   "execution_count": null,
   "metadata": {
    "collapsed": false,
    "deletable": true,
    "editable": true
   },
   "outputs": [],
   "source": [
    "def find_headers_row(file, sheet):\n",
    "    headers_row = 0\n",
    "    while True:\n",
    "        with pd.ExcelFile(file) as xl:\n",
    "            df = xl.parse(sheet, header=headers_row)\n",
    "            width, height = df.shape\n",
    "            for heading in df.columns:\n",
    "                if 'ISBN' in str(heading):\n",
    "                    return headers_row\n",
    "            else:\n",
    "                headers_row += 1\n",
    "        if headers_row > height:\n",
    "            break\n",
    "    return None\n",
    "\n",
    "\n",
    "def create_nested_dict(dictionary, key, subkey, value):\n",
    "    if key not in dictionary:\n",
    "        dictionary[key] = {subkey: value}\n",
    "    else:\n",
    "        dictionary[key][subkey] = value     \n",
    "    return dictionary"
   ]
  },
  {
   "cell_type": "code",
   "execution_count": null,
   "metadata": {
    "collapsed": false
   },
   "outputs": [],
   "source": [
    "all_df_dict = dict()        \n",
    "for file in xl_files:\n",
    "    with pd.ExcelFile(file) as xl:\n",
    "        for sheet in xl.sheet_names:\n",
    "            headers_row = find_headers_row(file, sheet)\n",
    "            if headers_row:\n",
    "                df = xl.parse(sheet, header=headers_row)\n",
    "                all_df_dict = create_nested_dict(all_df_dict, file, sheet, df)\n"
   ]
  },
  {
   "cell_type": "code",
   "execution_count": null,
   "metadata": {
    "collapsed": false,
    "deletable": true,
    "editable": true
   },
   "outputs": [],
   "source": [
    "print(len(all_df_dict))"
   ]
  },
  {
   "cell_type": "code",
   "execution_count": null,
   "metadata": {
    "collapsed": false
   },
   "outputs": [],
   "source": [
    "headers_set, headers_dict = set(), dict()\n",
    "\n",
    "for file, sheets in all_df_dict.items():\n",
    "    for sheet, df in sheets.items():\n",
    "        for i in df.columns:\n",
    "            if i in headers_dict:\n",
    "                headers_dict[i] += 1\n",
    "            else:\n",
    "                headers_dict[i] = 1\n",
    "        headers_set.update({i for i in df.columns})\n",
    "        \n",
    "alpha_unique_headers = sorted(list(headers_set))"
   ]
  },
  {
   "cell_type": "code",
   "execution_count": null,
   "metadata": {
    "collapsed": false
   },
   "outputs": [],
   "source": [
    "# alpha_unique_headers\n",
    "headers_dict"
   ]
  },
  {
   "cell_type": "code",
   "execution_count": null,
   "metadata": {
    "collapsed": true
   },
   "outputs": [],
   "source": [
    "all_df = [df for file, sheets in all_df_dict.items() for sheet, df in sheets.items()]"
   ]
  },
  {
   "cell_type": "code",
   "execution_count": null,
   "metadata": {
    "collapsed": false
   },
   "outputs": [],
   "source": [
    "list_print_isbn = list()\n",
    "\n",
    "for df in all_df:\n",
    "    for column in df.columns:\n",
    "        if 'print' in column.lower() and 'isbn' in column.lower():\n",
    "            for item in df[column]:\n",
    "                list_print_isbn.append(item)"
   ]
  },
  {
   "cell_type": "code",
   "execution_count": null,
   "metadata": {
    "collapsed": false
   },
   "outputs": [],
   "source": [
    "len(list_print_isbn), len(set(list_print_isbn)), \"duplicated ISBNs: {}\".format(len(list_print_isbn) - len(set(list_print_isbn)))"
   ]
  },
  {
   "cell_type": "code",
   "execution_count": null,
   "metadata": {
    "collapsed": false
   },
   "outputs": [],
   "source": [
    "all_df[0].info()"
   ]
  },
  {
   "cell_type": "code",
   "execution_count": null,
   "metadata": {
    "collapsed": false
   },
   "outputs": [],
   "source": [
    "all_df[0]['e-ISBN 13']"
   ]
  },
  {
   "cell_type": "code",
   "execution_count": null,
   "metadata": {
    "collapsed": true
   },
   "outputs": [],
   "source": []
  }
 ],
 "metadata": {
  "kernelspec": {
   "display_name": "Python 3",
   "language": "python",
   "name": "python3"
  },
  "language_info": {
   "codemirror_mode": {
    "name": "ipython",
    "version": 3
   },
   "file_extension": ".py",
   "mimetype": "text/x-python",
   "name": "python",
   "nbconvert_exporter": "python",
   "pygments_lexer": "ipython3",
   "version": "3.5.2"
  }
 },
 "nbformat": 4,
 "nbformat_minor": 2
}
