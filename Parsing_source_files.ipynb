{
 "cells": [
  {
   "cell_type": "code",
   "execution_count": null,
   "metadata": {
    "collapsed": false,
    "deletable": true,
    "editable": true
   },
   "outputs": [],
   "source": [
    "import os\n",
    "from collections import namedtuple\n",
    "\n",
    "import openpyxl"
   ]
  },
  {
   "cell_type": "code",
   "execution_count": null,
   "metadata": {
    "collapsed": false,
    "deletable": true,
    "editable": true,
    "scrolled": true
   },
   "outputs": [],
   "source": [
    "output_folders = [os.path.abspath(i)\n",
    "                  for i in os.listdir('.')\n",
    "                  if os.path.isdir(os.path.abspath(i)) and '_output' in i]\n",
    "\n",
    "xlsx_files = [os.path.join(folder, file)\n",
    "             for folder in output_folders\n",
    "             for file in os.listdir(folder)\n",
    "             if os.path.splitext(file)[1] in ('.xlsx', )]\n",
    "xlsx_files.extend([os.path.join(os.path.abspath('cambridge_output'), file)\n",
    "                   for file in os.listdir('cambridge_output')\n",
    "                   if os.path.splitext(file)[1] == ''])\n",
    "\n",
    "filename_parsedobject = dict()\n",
    "\n",
    "openpyxl.war\n",
    "for file in xlsx_files:\n",
    "    print(file)\n",
    "    read_file = openpyxl.load_workbook(file)\n",
    "    print(read_file.sheetnames)\n",
    "    for sheet in read_file.sheetnames:\n",
    "        read_sheet = read_file.get_sheet_by_name(sheet)\n",
    "        for num, row in enumerate(read_sheet.iter_rows()):\n",
    "            if num == 0:\n",
    "                headers = (i.value.replace(' ', '_').replace('(', '').replace(')', '').replace('/', '') for i in row)\n",
    "                WorkSheet = namedtuple('WorkSheet', headers)\n",
    "                continue\n",
    "            values = (i.value for i in row)\n",
    "            item = WorkSheet(*values)\n",
    "            filename_parsedobject[sheet] = item\n",
    "  "
   ]
  },
  {
   "cell_type": "code",
   "execution_count": null,
   "metadata": {
    "collapsed": false,
    "deletable": true,
    "editable": true
   },
   "outputs": [],
   "source": []
  },
  {
   "cell_type": "code",
   "execution_count": null,
   "metadata": {
    "collapsed": true,
    "deletable": true,
    "editable": true
   },
   "outputs": [],
   "source": []
  }
 ],
 "metadata": {
  "kernelspec": {
   "display_name": "Python 3",
   "language": "python",
   "name": "python3"
  },
  "language_info": {
   "codemirror_mode": {
    "name": "ipython",
    "version": 3
   },
   "file_extension": ".py",
   "mimetype": "text/x-python",
   "name": "python",
   "nbconvert_exporter": "python",
   "pygments_lexer": "ipython3",
   "version": "3.5.2"
  }
 },
 "nbformat": 4,
 "nbformat_minor": 2
}
