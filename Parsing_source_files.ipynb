{
 "cells": [
  {
   "cell_type": "code",
   "execution_count": null,
   "metadata": {
    "collapsed": false,
    "deletable": true,
    "editable": true
   },
   "outputs": [],
   "source": [
    "import os\n",
    "\n",
    "import pdir\n",
    "import pandas as pd"
   ]
  },
  {
   "cell_type": "code",
   "execution_count": null,
   "metadata": {
    "collapsed": false,
    "deletable": true,
    "editable": true,
    "scrolled": false
   },
   "outputs": [],
   "source": [
    "output_folders = [i for i in os.listdir('.')\n",
    "                  if os.path.isdir(os.path.abspath(i)) and '_output' in i]  "
   ]
  },
  {
   "cell_type": "code",
   "execution_count": null,
   "metadata": {
    "collapsed": false
   },
   "outputs": [],
   "source": [
    "xl_files = [os.path.join(folder, file)\n",
    "             for folder in output_folders\n",
    "             for file in os.listdir(folder)\n",
    "             if os.path.splitext(file)[1] in ('.xlsx', '.xls')]\n",
    "# xlsx_files.extend([os.path.join('cambridge_output'), file)\n",
    "#                    for file in os.listdir('cambridge_output')\n",
    "#                    if os.path.splitext(file)[1] == ''])"
   ]
  },
  {
   "cell_type": "code",
   "execution_count": null,
   "metadata": {
    "collapsed": false
   },
   "outputs": [],
   "source": [
    "# xls_files = [os.path.join(folder, file)\n",
    "#              for folder in output_folders\n",
    "#              for file in os.listdir(folder)\n",
    "#              if os.path.splitext(file)[1] == '.xls']"
   ]
  },
  {
   "cell_type": "code",
   "execution_count": null,
   "metadata": {
    "collapsed": false
   },
   "outputs": [],
   "source": [
    "# filename_objects = dict()\n",
    "\n",
    "# for file in xl_files:\n",
    "#     read_file = openpyxl.load_workbook(file)\n",
    "#     for sheet in read_file.sheetnames:\n",
    "#         read_sheet = read_file.get_sheet_by_name(sheet)\n",
    "#         for num, row in enumerate(read_sheet.iter_rows()):\n",
    "#             if num == 0:\n",
    "#                 headers = (i.value.replace(' ', '_').replace('(', '').replace(')', '').replace('/', '') for i in row)\n",
    "#                 WorkSheet = namedtuple('WorkSheet', headers)\n",
    "#                 continue\n",
    "#             values = (i.value for i in row)\n",
    "#             item = WorkSheet(*values)\n",
    "#             filename_objects[sheet] = item"
   ]
  },
  {
   "cell_type": "code",
   "execution_count": null,
   "metadata": {
    "collapsed": false,
    "deletable": true,
    "editable": true
   },
   "outputs": [],
   "source": [
    "# for file in xl_files:\n",
    "#     read_file = xlrd.open_workbook(file)\n",
    "#     for sheet in read_file.sheet_names():\n",
    "#         read_sheet = read_file.sheet_by_name(sheet)\n",
    "#         break\n",
    "#     break"
   ]
  },
  {
   "cell_type": "code",
   "execution_count": null,
   "metadata": {
    "collapsed": false
   },
   "outputs": [],
   "source": [
    "def find_headers_row(file, sheet):\n",
    "    headers_row = 0\n",
    "    while True:\n",
    "        with pd.ExcelFile(file) as xl:\n",
    "            df = xl.parse(sheet, header=headers_row)\n",
    "            width, height = df.shape\n",
    "            for heading in df.columns:\n",
    "                if 'ISBN' in str(heading):\n",
    "                    return headers_row\n",
    "            else:\n",
    "                headers_row += 1\n",
    "        if headers_row > height:\n",
    "            break\n",
    "    return None\n",
    "\n",
    "def create_nested_dict(dictionary, key, subkey, value):\n",
    "    if subkey == 'All Live':\n",
    "        print(key, subkey, dictionary)\n",
    "    if not dictionary:\n",
    "        dictionary = dict()\n",
    "    if key in dictionary:\n",
    "        if subkey in key:\n",
    "            if dictionary[key][subkey] == value:\n",
    "                pass\n",
    "            else:\n",
    "                print('we never expected {}[{}][{}] to already have a value'.format(dictionary, key, subkey))\n",
    "                dictionary[key][subkey] = value\n",
    "        else:\n",
    "            dictionary[key][subkey] = value\n",
    "    else:\n",
    "        dictionary[key] = {subkey: value}\n",
    "    return dictionary\n",
    "\n",
    "all_df_dict = dict()        \n",
    "for file in xl_files:\n",
    "    with pd.ExcelFile(file) as xl:\n",
    "        for sheet in xl.sheet_names:\n",
    "            headers_row = find_headers_row(file, sheet)\n",
    "            if headers_row:\n",
    "                df = xl.parse(sheet, header=headers_row)\n",
    "                all_df_dict = create_nested_dict(all_df_dict, file, sheet, df)"
   ]
  },
  {
   "cell_type": "code",
   "execution_count": null,
   "metadata": {
    "collapsed": false
   },
   "outputs": [],
   "source": [
    "print(len(all_df_dict))"
   ]
  }
 ],
 "metadata": {
  "kernelspec": {
   "display_name": "Python 3",
   "language": "python",
   "name": "python3"
  },
  "language_info": {
   "codemirror_mode": {
    "name": "ipython",
    "version": 3
   },
   "file_extension": ".py",
   "mimetype": "text/x-python",
   "name": "python",
   "nbconvert_exporter": "python",
   "pygments_lexer": "ipython3",
   "version": "3.5.2"
  }
 },
 "nbformat": 4,
 "nbformat_minor": 2
}
