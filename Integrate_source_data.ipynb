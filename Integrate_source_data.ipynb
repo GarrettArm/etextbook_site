{
 "cells": [
  {
   "cell_type": "markdown",
   "metadata": {
    "deletable": true,
    "editable": true
   },
   "source": [
    "## Getting source data"
   ]
  },
  {
   "cell_type": "code",
   "execution_count": 1,
   "metadata": {
    "collapsed": false,
    "deletable": true,
    "editable": true
   },
   "outputs": [
    {
     "name": "stdout",
     "output_type": "stream",
     "text": [
      "\n",
      "This script will not repull the datasets already present in the *_output folders.\n",
      "If you wish to refresh any dataset, do delete the currently present file.\n",
      "You must manually provide files for the datasets from Taylor & Francis, from\n",
      "Knovel, and from OpenStax.\n",
      "Any xls, xlsx, or csv in an PublisherFiles\\ subfolder will be used as source data.\n"
     ]
    }
   ],
   "source": [
    "import scraping_pub_lists as ScrapePub\n",
    "\n",
    "ScrapePub.scrape_all()"
   ]
  },
  {
   "cell_type": "code",
   "execution_count": 2,
   "metadata": {
    "collapsed": false,
    "deletable": true,
    "editable": true
   },
   "outputs": [],
   "source": [
    "# this one takes a while to read all 50 or so pages\n",
    "# of the lsu course catalog, building an index of what's available\n",
    "\n",
    "import scrape_course_catalog as ScrapeCourseCat\n",
    "\n",
    "# all_course_urls = ScrapeCourseCat.lookup_all_course_urls()\n",
    "# ScrapeCourseCat.scrape_write_all_course_listings(all_course_urls)"
   ]
  },
  {
   "cell_type": "code",
   "execution_count": 3,
   "metadata": {
    "collapsed": false,
    "deletable": true,
    "editable": true
   },
   "outputs": [
    {
     "name": "stdout",
     "output_type": "stream",
     "text": [
      "file exists already.  Exiting.\n"
     ]
    }
   ],
   "source": [
    "import ssh_symphony as SSH_Symphony\n",
    "\n",
    "SSH_Symphony.generate_ISBN_file()"
   ]
  },
  {
   "cell_type": "markdown",
   "metadata": {
    "deletable": true,
    "editable": true
   },
   "source": [
    "## Parsing source data"
   ]
  },
  {
   "cell_type": "code",
   "execution_count": 4,
   "metadata": {
    "collapsed": false,
    "deletable": true,
    "editable": true
   },
   "outputs": [],
   "source": [
    "import parse_bookstore_csv as Bookstore\n",
    "\n",
    "filepath = 'BookstoreFiles/fallbooklist.csv'\n",
    "file_text = Bookstore.cleanup_bookstore_file(filepath)\n",
    "bookstore_df = Bookstore.parse_bookstore_files(file_text)"
   ]
  },
  {
   "cell_type": "code",
   "execution_count": 5,
   "metadata": {
    "collapsed": false,
    "deletable": true,
    "editable": true
   },
   "outputs": [
    {
     "data": {
      "text/plain": [
       "Index(['Dept/Course', 'Section', 'unnamed1', 'Professor', 'Author', 'Title',\n",
       "       'ISBN', 'Publisher', 'RcCd', 'STS'],\n",
       "      dtype='object')"
      ]
     },
     "execution_count": 5,
     "metadata": {},
     "output_type": "execute_result"
    }
   ],
   "source": [
    "bookstore_df.columns\n",
    "# bookstore_df"
   ]
  },
  {
   "cell_type": "code",
   "execution_count": 6,
   "metadata": {
    "collapsed": false,
    "deletable": true,
    "editable": true
   },
   "outputs": [],
   "source": [
    "import os\n",
    "import parse_course_catalog as CourseCatalog\n",
    "\n",
    "all_spring_2017_files = [os.path.join(root, file)\n",
    "                         for root, dirs, files in os.walk('course_listings/2017/Spring_2017/')\n",
    "                         for file in files]\n",
    "\n",
    "spring_2017_courses = {os.path.splitext(os.path.split(filepath)[1])[0]:\n",
    "                        CourseCatalog.parse_course_listing_texts(filepath)[0]\n",
    "                    for filepath in all_spring_2017_files}\n",
    "    "
   ]
  },
  {
   "cell_type": "code",
   "execution_count": 10,
   "metadata": {
    "collapsed": true,
    "deletable": true,
    "editable": true
   },
   "outputs": [
    {
     "name": "stdout",
     "output_type": "stream",
     "text": [
      "CourseItem(available='(F)', enrollment_count='310', abbr_num='ACCT 2000', type='', sec_num='2', course_title='SURVEY OF ACCOUNTING', credit_hours='3.0', begin_end='1200-0120', days='T TH', room='0100', building='DODSON', special_enrollment='', instructor='BRIGGS E')\n",
      "CourseItem(available='179', enrollment_count='131', abbr_num='ACCT 2000', type='', sec_num='1', course_title='SURVEY OF ACCOUNTING', credit_hours='3.0', begin_end='430-0720N', days='W', room='0100', building='DODSON', special_enrollment='', instructor='LOWE-ARDOIN L')\n",
      "CourseItem(available='183', enrollment_count='97', abbr_num='ARTH 1441', type='', sec_num='1', course_title='HISTOR SURVEY ARTS', credit_hours='3.0', begin_end='130-0250', days='T TH', room='0100', building='DODSON', special_enrollment='', instructor='SIFFORD E')\n",
      "CourseItem(available='(F)', enrollment_count='60', abbr_num='ECON 2030', type='', sec_num='1', course_title='ECONOMIC PRINCIPLES', credit_hours='3.0', begin_end='730-0820', days='M W', room='0100', building='DODSON', special_enrollment='', instructor='ROUSSEL C')\n",
      "CourseItem(available='(F)', enrollment_count='38', abbr_num='ECON 2030', type='', sec_num='2', course_title='ECONOMIC PRINCIPLES', credit_hours='3.0', begin_end='730-0820', days='M W', room='0100', building='DODSON', special_enrollment='', instructor='ROUSSEL C')\n",
      "CourseItem(available='(F)', enrollment_count='38', abbr_num='ECON 2030', type='', sec_num='3', course_title='ECONOMIC PRINCIPLES', credit_hours='3.0', begin_end='730-0820', days='M W', room='0100', building='DODSON', special_enrollment='', instructor='ROUSSEL C')\n",
      "CourseItem(available='(F)', enrollment_count='38', abbr_num='ECON 2030', type='', sec_num='4', course_title='ECONOMIC PRINCIPLES', credit_hours='3.0', begin_end='730-0820', days='M W', room='0100', building='DODSON', special_enrollment='', instructor='ROUSSEL C')\n",
      "CourseItem(available='(F)', enrollment_count='60', abbr_num='ECON 2030', type='', sec_num='5', course_title='ECONOMIC PRINCIPLES', credit_hours='3.0', begin_end='730-0820', days='M W', room='0100', building='DODSON', special_enrollment='', instructor='ROUSSEL C')\n",
      "CourseItem(available='(F)', enrollment_count='38', abbr_num='ECON 2030', type='', sec_num='6', course_title='ECONOMIC PRINCIPLES', credit_hours='3.0', begin_end='730-0820', days='M W', room='0100', building='DODSON', special_enrollment='', instructor='ROUSSEL C')\n",
      "CourseItem(available='(F)', enrollment_count='38', abbr_num='ECON 2030', type='', sec_num='7', course_title='ECONOMIC PRINCIPLES', credit_hours='3.0', begin_end='730-0820', days='M W', room='0100', building='DODSON', special_enrollment='', instructor='ROUSSEL C')\n",
      "CourseItem(available='(F)', enrollment_count='38', abbr_num='ECON 2030', type='', sec_num='8', course_title='ECONOMIC PRINCIPLES', credit_hours='3.0', begin_end='730-0820', days='M W', room='0100', building='DODSON', special_enrollment='', instructor='ROUSSEL C')\n",
      "CourseItem(available='(F)', enrollment_count='60', abbr_num='ECON 2030', type='', sec_num='9', course_title='ECONOMIC PRINCIPLES', credit_hours='3.0', begin_end='930-1020', days='M W', room='0100', building='DODSON', special_enrollment='', instructor='ROUSSEL C')\n",
      "CourseItem(available='(F)', enrollment_count='38', abbr_num='ECON 2030', type='', sec_num='10', course_title='ECONOMIC PRINCIPLES', credit_hours='3.0', begin_end='930-1020', days='M W', room='0100', building='DODSON', special_enrollment='', instructor='ROUSSEL C')\n",
      "CourseItem(available='(F)', enrollment_count='38', abbr_num='ECON 2030', type='', sec_num='11', course_title='ECONOMIC PRINCIPLES', credit_hours='3.0', begin_end='930-1020', days='M W', room='0100', building='DODSON', special_enrollment='', instructor='ROUSSEL C')\n",
      "CourseItem(available='(F)', enrollment_count='38', abbr_num='ECON 2030', type='', sec_num='12', course_title='ECONOMIC PRINCIPLES', credit_hours='3.0', begin_end='930-1020', days='M W', room='0100', building='DODSON', special_enrollment='', instructor='ROUSSEL C')\n",
      "CourseItem(available='(F)', enrollment_count='60', abbr_num='ECON 2030', type='', sec_num='13', course_title='ECONOMIC PRINCIPLES', credit_hours='3.0', begin_end='930-1020', days='M W', room='0100', building='DODSON', special_enrollment='', instructor='ROUSSEL C')\n",
      "CourseItem(available='(F)', enrollment_count='38', abbr_num='ECON 2030', type='', sec_num='14', course_title='ECONOMIC PRINCIPLES', credit_hours='3.0', begin_end='930-1020', days='M W', room='0100', building='DODSON', special_enrollment='', instructor='ROUSSEL C')\n",
      "CourseItem(available='(F)', enrollment_count='38', abbr_num='ECON 2030', type='', sec_num='15', course_title='ECONOMIC PRINCIPLES', credit_hours='3.0', begin_end='930-1020', days='M W', room='0100', building='DODSON', special_enrollment='', instructor='ROUSSEL C')\n",
      "CourseItem(available='(F)', enrollment_count='38', abbr_num='ECON 2030', type='', sec_num='16', course_title='ECONOMIC PRINCIPLES', credit_hours='3.0', begin_end='930-1020', days='M W', room='0100', building='DODSON', special_enrollment='', instructor='ROUSSEL C')\n",
      "CourseItem(available='133', enrollment_count='217', abbr_num='PSYC 2000', type='', sec_num='3', course_title='INTR TO PSYC', credit_hours='3.0', begin_end='130-0220', days='M W F', room='0100', building='DODSON', special_enrollment='', instructor='SPITLER S')\n",
      "CourseItem(available='193', enrollment_count='147', abbr_num='RNR  1001', type='', sec_num='1', course_title='NAT RESOURCE CONSERV', credit_hours='3.0', begin_end='1030-1120', days='M W F', room='0100', building='DODSON', special_enrollment='', instructor='ERRERA R')\n",
      "CourseItem(available='128', enrollment_count='226', abbr_num='GEOG 2050', type='', sec_num='1', course_title='PHY GEOG ATMOSPHERE', credit_hours='3.0', begin_end='900-1020', days='T TH', room='0100', building='DODSON', special_enrollment='', instructor='TREPANIER J')\n",
      "CourseItem(available='179', enrollment_count='175', abbr_num='IE   3302', type='', sec_num='1', course_title='ENGR STATISTICS', credit_hours='3.0', begin_end='830-0920', days='M W F', room='0100', building='DODSON', special_enrollment='', instructor='')\n",
      "CourseItem(available='(F)', enrollment_count='354', abbr_num='ID   1051', type='', sec_num='1', course_title='INTRO INTERIOR DESGN', credit_hours='3.0', begin_end='1030-1150', days='T TH', room='0100', building='DODSON', special_enrollment='', instructor='CAMPBELL J')\n"
     ]
    }
   ],
   "source": [
    "for filepath, courses in spring_2017_courses.items():\n",
    "    for course in courses:\n",
    "        if 'DODSON' in course.building:\n",
    "            print(course)"
   ]
  },
  {
   "cell_type": "code",
   "execution_count": 11,
   "metadata": {
    "collapsed": false,
    "deletable": true,
    "editable": true
   },
   "outputs": [],
   "source": [
    "import parse_scraped_sourcefiles as PublisherFiles\n",
    "\n",
    "all_publisher_files = PublisherFiles.main()"
   ]
  },
  {
   "cell_type": "code",
   "execution_count": null,
   "metadata": {
    "collapsed": false,
    "deletable": true,
    "editable": true
   },
   "outputs": [],
   "source": [
    "# all_publisher_files"
   ]
  },
  {
   "cell_type": "markdown",
   "metadata": {
    "deletable": true,
    "editable": true
   },
   "source": [
    "## Manipulations"
   ]
  },
  {
   "cell_type": "code",
   "execution_count": null,
   "metadata": {
    "collapsed": true,
    "deletable": true,
    "editable": true
   },
   "outputs": [],
   "source": [
    "import worldcat_expanding\n",
    "\n",
    "equivalent_isbns, matching_records = worldcat_expanding.main('9780123749284')"
   ]
  },
  {
   "cell_type": "code",
   "execution_count": null,
   "metadata": {
    "collapsed": false,
    "deletable": true,
    "editable": true
   },
   "outputs": [],
   "source": [
    "# print(equivalent_isbns)\n",
    "# import pymarc\n",
    "# print(matching_records[0].as_dict())"
   ]
  }
 ],
 "metadata": {
  "kernelspec": {
   "display_name": "Python 3",
   "language": "python",
   "name": "python3"
  },
  "language_info": {
   "codemirror_mode": {
    "name": "ipython",
    "version": 3
   },
   "file_extension": ".py",
   "mimetype": "text/x-python",
   "name": "python",
   "nbconvert_exporter": "python",
   "pygments_lexer": "ipython3",
   "version": "3.5.2"
  }
 },
 "nbformat": 4,
 "nbformat_minor": 2
}
