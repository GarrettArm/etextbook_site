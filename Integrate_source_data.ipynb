{
 "cells": [
  {
   "cell_type": "markdown",
   "metadata": {},
   "source": [
    "## Getting source data"
   ]
  },
  {
   "cell_type": "code",
   "execution_count": null,
   "metadata": {
    "collapsed": true
   },
   "outputs": [],
   "source": [
    "import scraping_pub_lists as ScrapePub\n",
    "\n",
    "ScrapePub.scrape_muse()\n",
    "ScrapePub.scrape_wiley()\n",
    "ScrapePub.scrape_springer()\n",
    "ScrapePub.scrape_elsevier()\n",
    "ScrapePub.scrape_UPSO()\n",
    "ScrapePub.scrape_JSTOR()\n",
    "ScrapePub.scrape_cambridge()"
   ]
  },
  {
   "cell_type": "code",
   "execution_count": null,
   "metadata": {
    "collapsed": false
   },
   "outputs": [],
   "source": [
    "# this one takes a while to read all 50 or so pages\n",
    "# of the lsu course catalog, building an index of what's available\n",
    "\n",
    "import scrape_course_catalog as ScrapeCourseCat\n",
    "\n",
    "all_course_urls = ScrapeCourseCat.lookup_all_course_urls()\n",
    "ScrapeCourseCat.scrape_write_all_course_listings(all_course_urls)"
   ]
  },
  {
   "cell_type": "code",
   "execution_count": null,
   "metadata": {
    "collapsed": false
   },
   "outputs": [],
   "source": [
    "import ssh_symphony as SSH_Symphony\n",
    "\n",
    "SSH_Symphony.generate_onlineISBN_file()"
   ]
  },
  {
   "cell_type": "markdown",
   "metadata": {},
   "source": [
    "## Parsing source data"
   ]
  },
  {
   "cell_type": "code",
   "execution_count": null,
   "metadata": {
    "collapsed": false
   },
   "outputs": [],
   "source": [
    "import parse_bookstore_csv as Bookstore\n",
    "\n",
    "filepath = 'BookstoreFiles/fallbooklist.csv'\n",
    "file_text = Bookstore.cleanup_bookstore_file(filepath)\n",
    "bookstore_df = Bookstore.parse_bookstore_files(file_text)"
   ]
  },
  {
   "cell_type": "code",
   "execution_count": null,
   "metadata": {
    "collapsed": false
   },
   "outputs": [],
   "source": [
    "# bookstore_df.columns\n",
    "# bookstore_df"
   ]
  },
  {
   "cell_type": "code",
   "execution_count": null,
   "metadata": {
    "collapsed": false
   },
   "outputs": [],
   "source": [
    "import os\n",
    "import parse_course_catalog as CourseCatalog\n",
    "\n",
    "all_spring_2017_files = [os.path.join(root, file)\n",
    "                         for root, dirs, files in os.walk('course_listings/2017/Spring_2017/')\n",
    "                         for file in files]\n",
    "\n",
    "spring_2017_courses = {os.path.splitext(os.path.split(filepath)[1])[0]:\n",
    "                        CourseCatalog.parse_course_listing_texts(filepath)[0]\n",
    "                    for filepath in all_spring_2017_files}\n",
    "    "
   ]
  },
  {
   "cell_type": "code",
   "execution_count": null,
   "metadata": {
    "collapsed": false
   },
   "outputs": [],
   "source": [
    "# for filepath, courses in spring_2017_courses.items():\n",
    "#     for course in courses:\n",
    "#         print(filepath, course)\n",
    "#     break"
   ]
  },
  {
   "cell_type": "code",
   "execution_count": null,
   "metadata": {
    "collapsed": false
   },
   "outputs": [],
   "source": [
    "import parse_scraped_sourcefiles as PublisherFiles\n",
    "\n",
    "all_publisher_files = PublisherFiles.main()"
   ]
  },
  {
   "cell_type": "code",
   "execution_count": null,
   "metadata": {
    "collapsed": false
   },
   "outputs": [],
   "source": [
    "# all_publisher_files"
   ]
  },
  {
   "cell_type": "markdown",
   "metadata": {},
   "source": [
    "## Manipulations"
   ]
  },
  {
   "cell_type": "code",
   "execution_count": null,
   "metadata": {
    "collapsed": true
   },
   "outputs": [],
   "source": [
    "import worldcat_expanding\n",
    "\n",
    "equivalent_isbns, matching_records = worldcat_expanding.main('9780123749284')"
   ]
  },
  {
   "cell_type": "code",
   "execution_count": null,
   "metadata": {
    "collapsed": false
   },
   "outputs": [],
   "source": [
    "# print(equivalent_isbns)\n",
    "# import pymarc\n",
    "# print(matching_records[0].as_dict())"
   ]
  }
 ],
 "metadata": {
  "kernelspec": {
   "display_name": "Python 3",
   "language": "python",
   "name": "python3"
  },
  "language_info": {
   "codemirror_mode": {
    "name": "ipython",
    "version": 3
   },
   "file_extension": ".py",
   "mimetype": "text/x-python",
   "name": "python",
   "nbconvert_exporter": "python",
   "pygments_lexer": "ipython3",
   "version": "3.5.2"
  }
 },
 "nbformat": 4,
 "nbformat_minor": 2
}
