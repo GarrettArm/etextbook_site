{
 "cells": [
  {
   "cell_type": "code",
   "execution_count": null,
   "metadata": {
    "collapsed": true,
    "deletable": true,
    "editable": true
   },
   "outputs": [],
   "source": [
    "import worldcat_expanding\n",
    "import csv\n",
    "import json\n",
    "import lxml.etree as ET\n",
    "import requests"
   ]
  },
  {
   "cell_type": "code",
   "execution_count": null,
   "metadata": {
    "collapsed": false,
    "deletable": true,
    "editable": true
   },
   "outputs": [],
   "source": [
    "with open('output/Summerbookstore2017.csv') as csvfile:\n",
    "    spamreader = csv.reader(csvfile, delimiter=',', quotechar='\"')\n",
    "    bookstore_isbns = [row[7].replace('-', '')\n",
    "                       for row in spamreader\n",
    "                       if 'ISBN' not in row[7]\n",
    "                       and 'E BOOK' not in row[7]]"
   ]
  },
  {
   "cell_type": "code",
   "execution_count": null,
   "metadata": {
    "collapsed": true
   },
   "outputs": [],
   "source": [
    "Spring3_etextbooks = ['9780123786326',\n",
    "                          '9780080470030',\n",
    "                          '9780300158373',\n",
    "                          '9780300180213',\n",
    "                          '9780415921428',\n",
    "                          '9780765626400',\n",
    "                          '9780415943918',\n",
    "                          '9781136611230',\n",
    "                          '9780415535878',\n",
    "                          '9780521176149',\n",
    "                          '9781107607453',\n",
    "                          '9780521423359',\n",
    "                          '9780511780882',\n",
    "                          '9780521542449',\n",
    "                          '9780511164798',\n",
    "                          '9780822957539',\n",
    "                          '9781134711345',]"
   ]
  },
  {
   "cell_type": "code",
   "execution_count": null,
   "metadata": {
    "collapsed": false,
    "deletable": true,
    "editable": true
   },
   "outputs": [],
   "source": [
    "spring_ebook_to_worldcat_api = dict()\n",
    "\n",
    "for isbn in sorted(Spring3_etextbooks):\n",
    "    isbns, marcrecords = worldcat_expanding.main(isbn)\n",
    "    if isbns:\n",
    "        spring_ebook_to_worldcat_api[isbn] = isbns"
   ]
  },
  {
   "cell_type": "code",
   "execution_count": null,
   "metadata": {
    "collapsed": false,
    "deletable": true,
    "editable": true
   },
   "outputs": [],
   "source": [
    "spring_ebook_to_xisbn = dict()\n",
    "\n",
    "for isbn in sorted(Spring3_etextbooks):\n",
    "    url = 'http://xisbn.worldcat.org/webservices/xid/isbn/{}?method=getEditions&format=json&ai=mike.waugh'.format(isbn)\n",
    "    response = requests.get(url)\n",
    "    raw_json = response.text\n",
    "    parsed_json = json.loads(raw_json)\n",
    "    isbns = set()\n",
    "    if parsed_json['stat'] == 'ok':\n",
    "        for item in parsed_json['list']:\n",
    "            for _, sublist in item.items():\n",
    "                for i in sublist:\n",
    "                    isbns.add(i)\n",
    "    spring_ebook_to_xisbn[isbn] = isbns"
   ]
  },
  {
   "cell_type": "code",
   "execution_count": null,
   "metadata": {
    "collapsed": false,
    "deletable": true,
    "editable": true
   },
   "outputs": [],
   "source": [
    "spring_ebook_to_thingISBN = dict()\n",
    "\n",
    "for isbn in sorted(Spring3_etextbooks):\n",
    "    url = 'http://www.librarything.com/api/thingISBN/{}'.format(isbn)\n",
    "    response = requests.get(url)\n",
    "    response_etree = ET.fromstring(response.content)\n",
    "    isbns = set()\n",
    "    for child in response_etree:\n",
    "        isbns.add(child.text)\n",
    "    spring_ebook_to_thingISBN[isbn] = isbns"
   ]
  },
  {
   "cell_type": "code",
   "execution_count": null,
   "metadata": {
    "collapsed": false
   },
   "outputs": [],
   "source": [
    "for k,v in sorted(spring_ebook_to_xisbn.items()):\n",
    "    print(k, v)\n",
    "    print(v.intersection(spring_ebook_to_worldcat_api.get(k)))\n",
    "    break\n",
    "    \n"
   ]
  },
  {
   "cell_type": "code",
   "execution_count": null,
   "metadata": {
    "collapsed": false
   },
   "outputs": [],
   "source": [
    "worldcat_expanding.main('9780750677653')[0]"
   ]
  },
  {
   "cell_type": "code",
   "execution_count": null,
   "metadata": {
    "collapsed": true
   },
   "outputs": [],
   "source": []
  },
  {
   "cell_type": "code",
   "execution_count": null,
   "metadata": {
    "collapsed": true
   },
   "outputs": [],
   "source": []
  },
  {
   "cell_type": "code",
   "execution_count": null,
   "metadata": {
    "collapsed": true
   },
   "outputs": [],
   "source": []
  },
  {
   "cell_type": "code",
   "execution_count": null,
   "metadata": {
    "collapsed": true
   },
   "outputs": [],
   "source": []
  },
  {
   "cell_type": "code",
   "execution_count": null,
   "metadata": {
    "collapsed": false,
    "deletable": true,
    "editable": true
   },
   "outputs": [],
   "source": [
    "worldcat_pw = worldcat_expanding.get_password()\n",
    "\n",
    "def stretch_isbn_list(isbn):\n",
    "    starting_isbns = {isbn, }\n",
    "    while True:\n",
    "        current_list = list(starting_isbns)    \n",
    "        for uid in current_list:\n",
    "            alternate_isbns, _ = worldcat_expanding.lookup_alternates(uid, worldcat_pw)\n",
    "            starting_isbns.update(alternate_isbns)\n",
    "        print(sorted(starting_isbns))\n",
    "        print(sorted(set(current_list)))\n",
    "        if set(current_list) == starting_isbns:\n",
    "            return starting_isbns\n",
    "    "
   ]
  },
  {
   "cell_type": "code",
   "execution_count": null,
   "metadata": {
    "collapsed": false,
    "deletable": true,
    "editable": true
   },
   "outputs": [],
   "source": [
    "stretched_set = stretch_isbn_list(target_isbn)"
   ]
  },
  {
   "cell_type": "code",
   "execution_count": null,
   "metadata": {
    "collapsed": true
   },
   "outputs": [],
   "source": []
  },
  {
   "cell_type": "code",
   "execution_count": null,
   "metadata": {
    "collapsed": true
   },
   "outputs": [],
   "source": []
  },
  {
   "cell_type": "code",
   "execution_count": null,
   "metadata": {
    "collapsed": true
   },
   "outputs": [],
   "source": [
    "# map physical_isbns to ebook_isbns for the spring ebook set\n",
    "# send each api a physical_isbn & expect the ebook_isbn in the return value\n"
   ]
  },
  {
   "cell_type": "code",
   "execution_count": null,
   "metadata": {
    "collapsed": true
   },
   "outputs": [],
   "source": [
    "physical_to_ebook = [('9780123786326', '9780123786333'),\n",
    "                     ('')]"
   ]
  }
 ],
 "metadata": {
  "kernelspec": {
   "display_name": "Python 3",
   "language": "python",
   "name": "python3"
  },
  "language_info": {
   "codemirror_mode": {
    "name": "ipython",
    "version": 3
   },
   "file_extension": ".py",
   "mimetype": "text/x-python",
   "name": "python",
   "nbconvert_exporter": "python",
   "pygments_lexer": "ipython3",
   "version": "3.5.2"
  }
 },
 "nbformat": 4,
 "nbformat_minor": 2
}
