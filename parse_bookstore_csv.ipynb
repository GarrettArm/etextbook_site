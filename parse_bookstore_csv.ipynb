{
 "cells": [
  {
   "cell_type": "raw",
   "metadata": {},
   "source": []
  },
  {
   "cell_type": "code",
   "execution_count": null,
   "metadata": {
    "collapsed": true
   },
   "outputs": [],
   "source": [
    "import io\n",
    "import os\n",
    "\n",
    "import pandas as pd\n",
    "\n",
    "\n",
    "def exclude_line(line):\n",
    "    if not line.strip():\n",
    "        return True\n",
    "    for exclude in ('------', 'Dept/Course', 'Publisher', 'Page:', 'User:', 'End,of Report', ',,,S,,,', ',,Rc,T,,,'):\n",
    "        if exclude in line:\n",
    "            return True\n",
    "    return False\n",
    "\n",
    "\n",
    "def cleanup_original_text(filepath):\n",
    "    headers = ('Dept/Course', 'Section', 'unnamed1', 'Professor', 'Author', 'Title', 'ISBN', 'Publisher', 'RcCd', 'STS')\n",
    "\n",
    "    with open(filepath, 'r', encoding='cp1252') as f:\n",
    "        lines = f.readlines()\n",
    "\n",
    "    file_text = ', '.join(i for i in headers)\n",
    "    # original data is split into two lines -- this hack concatinates each pair of split lines\n",
    "    first_line = True\n",
    "    for line in lines:\n",
    "        if exclude_line(line):\n",
    "            continue\n",
    "        if first_line:\n",
    "            full_line = line.replace('\\n', '')\n",
    "            first_line = False\n",
    "            continue\n",
    "        else:\n",
    "            full_line = '{}{}'.format(full_line, line.replace('\\n', ''))\n",
    "            first_line = True\n",
    "            file_text = \"{}\\n{}\".format(file_text, full_line)\n",
    "    return headers, file_text\n",
    "\n",
    "\n",
    "def parse_bookstore_files(headers, text):\n",
    "    headers = ('Dept/Course', 'Section', 'unnamed1', 'Professor', 'Author', 'Title', 'ISBN', 'Publisher', 'RcCd', 'STS')\n",
    "    return pd.read_csv(io.StringIO(text), delimiter=',', names=headers)\n",
    "\n",
    "\n"
   ]
  },
  {
   "cell_type": "code",
   "execution_count": null,
   "metadata": {
    "collapsed": true
   },
   "outputs": [],
   "source": [
    "headers, file_text = cleanup_original_text('BookstoreFiles/fallbooklist.csv')\n"
   ]
  },
  {
   "cell_type": "code",
   "execution_count": null,
   "metadata": {
    "collapsed": true
   },
   "outputs": [],
   "source": [
    "df = parse_bookstore_files(file_text)\n",
    "\n"
   ]
  },
  {
   "cell_type": "code",
   "execution_count": null,
   "metadata": {
    "collapsed": true
   },
   "outputs": [],
   "source": [
    "os.makedirs('output', exist_ok=True)\n",
    "with open(os.path.join('output', 'bookstore.csv'), 'w') as f:\n",
    "    f.write(df.to_csv())"
   ]
  }
 ],
 "metadata": {
  "kernelspec": {
   "display_name": "Python 3",
   "language": "python",
   "name": "python3"
  },
  "language_info": {
   "codemirror_mode": {
    "name": "ipython",
    "version": 3
   },
   "file_extension": ".py",
   "mimetype": "text/x-python",
   "name": "python",
   "nbconvert_exporter": "python",
   "pygments_lexer": "ipython3",
   "version": "3.5.2"
  }
 },
 "nbformat": 4,
 "nbformat_minor": 2
}
