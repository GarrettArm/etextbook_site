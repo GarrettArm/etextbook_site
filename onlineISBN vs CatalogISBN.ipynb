{
 "cells": [
  {
   "cell_type": "code",
   "execution_count": 1,
   "metadata": {
    "collapsed": true,
    "deletable": true,
    "editable": true
   },
   "outputs": [],
   "source": [
    "import os\n",
    "import re"
   ]
  },
  {
   "cell_type": "code",
   "execution_count": 2,
   "metadata": {
    "collapsed": true,
    "deletable": true,
    "editable": true
   },
   "outputs": [],
   "source": [
    "ISBNregex = re.compile(r'(\\b\\d{13}\\b)|(\\b\\d{9}[\\d|X]\\b)')"
   ]
  },
  {
   "cell_type": "code",
   "execution_count": 3,
   "metadata": {
    "collapsed": false,
    "deletable": true,
    "editable": true
   },
   "outputs": [],
   "source": [
    "\n",
    "# The script assumes the two files (onlineISBN.txt and CatalogISBNs.txt) are in a folder \"CatalogFiles\"\n",
    "\n",
    "\n",
    "with open('CatalogFiles/onlineISBN.txt', 'r') as f:\n",
    "    lines = f.readlines()\n",
    "sshinterface = set()\n",
    "for line in lines:\n",
    "    sshinterface.update(set(i for tuple in ISBNregex.findall(line) for i in tuple if i))\n",
    "\n",
    "with open('CatalogFiles/CatalogOnline201704.txt', 'r') as f:\n",
    "    lines = f.readlines()\n",
    "new_webinterface = set()\n",
    "for line in lines:\n",
    "    new_webinterface.update(set(i for tuple in ISBNregex.findall(line) for i in tuple if i))\n",
    "\n",
    "with open('source_material/legacy/CatalogISBNs.txt', 'r') as f:\n",
    "    lines = f.readlines()\n",
    "old_webinterface = set()\n",
    "for line in lines:\n",
    "    old_webinterface.update(set(i for tuple in ISBNregex.findall(line) for i in tuple if i))"
   ]
  },
  {
   "cell_type": "code",
   "execution_count": 4,
   "metadata": {
    "collapsed": false,
    "deletable": true,
    "editable": true
   },
   "outputs": [
    {
     "name": "stdout",
     "output_type": "stream",
     "text": [
      "223708 \tCount of items in file pulled via ssh\n",
      "583294 \tCount of items in file pullied via web interface\n",
      "18542 \tCount of items unique to the ssh file\n",
      "378128 \tCount of items unique to the web interface file\n",
      "205166 \tCount of items shared by both files\n"
     ]
    }
   ],
   "source": [
    "# New webinterface vs ssh\n",
    "\n",
    "print(len(sshinterface), \"\\tItems via ssh\")\n",
    "print(len(new_webinterface), \"\\tItems via new gui\")\n",
    "print(len(sshinterface.difference(new_webinterface)), \"\\tItems unique to the ssh\")\n",
    "print(len(new_webinterface.difference(sshinterface)), \"\\tItems unique to the new gui\")\n",
    "print(len(sshinterface.intersection(new_webinterface)), \"\\tItems shared by both files\")"
   ]
  },
  {
   "cell_type": "code",
   "execution_count": 5,
   "metadata": {
    "collapsed": false
   },
   "outputs": [
    {
     "name": "stdout",
     "output_type": "stream",
     "text": [
      "223708 \tCount of items in file pulled via ssh\n",
      "588238 \tCount of items in file pullied via web interface\n",
      "6175 \tCount of items unique to the ssh file\n",
      "370705 \tCount of items unique to the web interface file\n",
      "217533 \tCount of items shared by both files\n"
     ]
    }
   ],
   "source": [
    "# Old webinterface vs ssh\n",
    "\n",
    "print(len(sshinterface), \"\\tItems via ssh\")\n",
    "print(len(old_webinterface), \"\\tItems via old gui\")\n",
    "print(len(sshinterface.difference(old_webinterface)), \"\\tItems unique to the ssh\")\n",
    "print(len(old_webinterface.difference(sshinterface)), \"\\tItems unique to the old gui\")\n",
    "print(len(sshinterface.intersection(old_webinterface)), \"\\tCount of items shared by both files\")"
   ]
  },
  {
   "cell_type": "code",
   "execution_count": 9,
   "metadata": {
    "collapsed": false
   },
   "outputs": [
    {
     "name": "stdout",
     "output_type": "stream",
     "text": [
      "583294 \tCount of items in file pulled via new\n",
      "588238 \tCount of items in file pullied via old\n",
      "19220 \tCount of items unique to the new file\n",
      "24164 \tCount of items unique to the old file\n",
      "564074 \tCount of items shared by both files\n"
     ]
    }
   ],
   "source": [
    "# Old vs New webinterface\n",
    "\n",
    "print(len(new_webinterface), \"\\tItems via new gui\")\n",
    "print(len(old_webinterface), \"\\tItems via old bui\")\n",
    "print(len(new_webinterface.difference(old_webinterface)), \"\\tCount of items unique to the new file\")\n",
    "print(len(old_webinterface.difference(new_webinterface)), \"\\tCount of items unique to the old file\")\n",
    "print(len(new_webinterface.intersection(old_webinterface)), \"\\tCount of items shared by both files\")"
   ]
  },
  {
   "cell_type": "code",
   "execution_count": 6,
   "metadata": {
    "collapsed": false,
    "deletable": true,
    "editable": true
   },
   "outputs": [
    {
     "name": "stdout",
     "output_type": "stream",
     "text": [
      "0521007542\n",
      "0195349237\n",
      "0691115834\n",
      "0262282801\n",
      "1421420538\n",
      "0877455902\n",
      "0471949485\n",
      "1137565241\n",
      "051103234X\n",
      "9780585283319\n",
      "0870814656\n"
     ]
    }
   ],
   "source": [
    "# show ten items unique to the webinterface file\n",
    "\n",
    "count = 0\n",
    "for item in new_webinterface.difference(sshinterface):\n",
    "    print(item)\n",
    "    count += 1\n",
    "    if count > 10:\n",
    "        break"
   ]
  },
  {
   "cell_type": "code",
   "execution_count": 7,
   "metadata": {
    "collapsed": false,
    "deletable": true,
    "editable": true
   },
   "outputs": [
    {
     "name": "stdout",
     "output_type": "stream",
     "text": [
      "9780841212923\n",
      "9780780385306\n",
      "9780841207431\n",
      "9781479957576\n",
      "9781424419579\n",
      "9781479962075\n",
      "9780841216341\n",
      "9780738149882\n",
      "9780858258075\n",
      "9780769519203\n",
      "9780780371071\n"
     ]
    }
   ],
   "source": [
    "# show ten items unique to the ssh file\n",
    "\n",
    "count = 0\n",
    "for item in sshinterface.difference(new_webinterface):\n",
    "    print(item)\n",
    "    count += 1\n",
    "    if count > 10:\n",
    "        break"
   ]
  },
  {
   "cell_type": "code",
   "execution_count": null,
   "metadata": {
    "collapsed": true
   },
   "outputs": [],
   "source": []
  }
 ],
 "metadata": {
  "kernelspec": {
   "display_name": "Python 3",
   "language": "python",
   "name": "python3"
  },
  "language_info": {
   "codemirror_mode": {
    "name": "ipython",
    "version": 3
   },
   "file_extension": ".py",
   "mimetype": "text/x-python",
   "name": "python",
   "nbconvert_exporter": "python",
   "pygments_lexer": "ipython3",
   "version": "3.5.2"
  }
 },
 "nbformat": 4,
 "nbformat_minor": 2
}
