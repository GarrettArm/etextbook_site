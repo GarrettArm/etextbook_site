{
 "cells": [
  {
   "cell_type": "code",
   "execution_count": 1,
   "metadata": {
    "collapsed": true
   },
   "outputs": [],
   "source": [
    "import os\n",
    "import re"
   ]
  },
  {
   "cell_type": "code",
   "execution_count": 2,
   "metadata": {
    "collapsed": true
   },
   "outputs": [],
   "source": [
    "ISBNregex = re.compile(r'(\\b\\d{13}\\b)|(\\b\\d{9}[\\d|X]\\b)')"
   ]
  },
  {
   "cell_type": "code",
   "execution_count": 20,
   "metadata": {
    "collapsed": false
   },
   "outputs": [],
   "source": [
    "with open('CatalogFiles/onlineISBN.txt', 'r') as f:\n",
    "    lines = f.readlines()\n",
    "onlineisbn_set = set()\n",
    "for line in lines:\n",
    "    onlineisbn_set.update(set(i for tuple in ISBNregex.findall(line) for i in tuple if i))\n"
   ]
  },
  {
   "cell_type": "code",
   "execution_count": 21,
   "metadata": {
    "collapsed": false
   },
   "outputs": [
    {
     "name": "stdout",
     "output_type": "stream",
     "text": [
      "223708\n"
     ]
    }
   ],
   "source": []
  },
  {
   "cell_type": "code",
   "execution_count": 23,
   "metadata": {
    "collapsed": true
   },
   "outputs": [],
   "source": [
    "with open('source_material/CatalogISBNs.txt', 'r') as f:\n",
    "    lines = f.readlines()\n",
    "catalogisbn_set = set()\n",
    "for line in lines:\n",
    "    catalogisbn_set.update(set(i for tuple in ISBNregex.findall(line) for i in tuple if i))"
   ]
  },
  {
   "cell_type": "code",
   "execution_count": 25,
   "metadata": {
    "collapsed": false
   },
   "outputs": [
    {
     "name": "stdout",
     "output_type": "stream",
     "text": [
      "588238\n"
     ]
    }
   ],
   "source": []
  },
  {
   "cell_type": "code",
   "execution_count": 28,
   "metadata": {
    "collapsed": false
   },
   "outputs": [
    {
     "name": "stdout",
     "output_type": "stream",
     "text": [
      "1554291984\n",
      "1441970673\n",
      "9781843790792\n",
      "9781467324489\n",
      "9781424452248\n",
      "9785998935404\n",
      "9781139245869\n",
      "0585100306\n",
      "9781467324489\n",
      "9783834803566\n",
      "9781424452248\n",
      "9781400849918\n"
     ]
    }
   ],
   "source": [
    "count = 0\n",
    "for i in catalogisbn_set:\n",
    "    count += 1\n",
    "    print(i)\n",
    "    if count > 5:\n",
    "        break\n",
    "count = 0\n",
    "for i in onlineisbn_set:\n",
    "    count += 1\n",
    "    print(i)\n",
    "    if count > 5:\n",
    "        break"
   ]
  },
  {
   "cell_type": "code",
   "execution_count": 32,
   "metadata": {
    "collapsed": false
   },
   "outputs": [
    {
     "name": "stdout",
     "output_type": "stream",
     "text": [
      "223708\n",
      "588238\n",
      "6175\n",
      "370705\n",
      "217533\n"
     ]
    }
   ],
   "source": [
    "print(len(onlineisbn_set))\n",
    "print(len(catalogisbn_set))\n",
    "print(len(onlineisbn_set.difference(catalogisbn_set)))\n",
    "print(len(catalogisbn_set.difference(onlineisbn_set)))\n",
    "print(len(onlineisbn_set.intersection(catalogisbn_set)))"
   ]
  },
  {
   "cell_type": "code",
   "execution_count": null,
   "metadata": {
    "collapsed": true
   },
   "outputs": [],
   "source": []
  }
 ],
 "metadata": {
  "kernelspec": {
   "display_name": "Python 3",
   "language": "python",
   "name": "python3"
  },
  "language_info": {
   "codemirror_mode": {
    "name": "ipython",
    "version": 3
   },
   "file_extension": ".py",
   "mimetype": "text/x-python",
   "name": "python",
   "nbconvert_exporter": "python",
   "pygments_lexer": "ipython3",
   "version": "3.5.2"
  }
 },
 "nbformat": 4,
 "nbformat_minor": 2
}
