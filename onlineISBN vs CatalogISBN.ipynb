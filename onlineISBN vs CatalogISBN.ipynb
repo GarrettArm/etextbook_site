{
 "cells": [
  {
   "cell_type": "code",
   "execution_count": null,
   "metadata": {
    "collapsed": true,
    "deletable": true,
    "editable": true
   },
   "outputs": [],
   "source": [
    "import os\n",
    "import re"
   ]
  },
  {
   "cell_type": "code",
   "execution_count": null,
   "metadata": {
    "collapsed": true,
    "deletable": true,
    "editable": true
   },
   "outputs": [],
   "source": [
    "ISBNregex = re.compile(r'(\\b\\d{13}\\b)|(\\b\\d{9}[\\d|X]\\b)')"
   ]
  },
  {
   "cell_type": "code",
   "execution_count": null,
   "metadata": {
    "collapsed": false,
    "deletable": true,
    "editable": true
   },
   "outputs": [],
   "source": [
    "\n",
    "# The script assumes the two files (onlineISBN.txt and CatalogISBNs.txt) are in a folder \"CatalogFiles\"\n",
    "\n",
    "\n",
    "with open('CatalogFiles/onlineISBN.txt', 'r') as f:\n",
    "    lines = f.readlines()\n",
    "sshinterface = set()\n",
    "for line in lines:\n",
    "    sshinterface.update(set(i for tuple in ISBNregex.findall(line) for i in tuple if i))\n",
    "\n",
    "with open('CatalogFiles/CatalogOnline201704.txt', 'r') as f:\n",
    "    lines = f.readlines()\n",
    "new_webinterface = set()\n",
    "for line in lines:\n",
    "    new_webinterface.update(set(i for tuple in ISBNregex.findall(line) for i in tuple if i))\n",
    "\n",
    "with open('source_material/legacy/CatalogISBNs.txt', 'r') as f:\n",
    "    lines = f.readlines()\n",
    "old_webinterface = set()\n",
    "for line in lines:\n",
    "    old_webinterface.update(set(i for tuple in ISBNregex.findall(line) for i in tuple if i))\n",
    "    \n",
    "with open('CatalogFiles/old_onlineISBN.txt', 'r') as f:\n",
    "    lines = f.readlines()\n",
    "old_ssh = set()\n",
    "for line in lines:\n",
    "    old_ssh.update(set(i for tuple in ISBNregex.findall(line) for i in tuple if i))"
   ]
  },
  {
   "cell_type": "code",
   "execution_count": null,
   "metadata": {
    "collapsed": false,
    "deletable": true,
    "editable": true
   },
   "outputs": [],
   "source": [
    "# New webinterface vs ssh\n",
    "\n",
    "print(len(sshinterface), \"\\tItems via ssh\")\n",
    "print(len(new_webinterface), \"\\tItems via new gui\")\n",
    "print(len(sshinterface.difference(new_webinterface)), \"\\tItems unique to the ssh\")\n",
    "print(len(new_webinterface.difference(sshinterface)), \"\\tItems unique to the new gui\")\n",
    "print(len(sshinterface.intersection(new_webinterface)), \"\\tItems shared by both files\")"
   ]
  },
  {
   "cell_type": "code",
   "execution_count": null,
   "metadata": {
    "collapsed": false,
    "deletable": true,
    "editable": true,
    "scrolled": true
   },
   "outputs": [],
   "source": [
    "# Old webinterface vs ssh\n",
    "\n",
    "print(len(sshinterface), \"\\tItems via ssh\")\n",
    "print(len(old_webinterface), \"\\tItems via old gui\")\n",
    "print(len(sshinterface.difference(old_webinterface)), \"\\tItems unique to the ssh\")\n",
    "print(len(old_webinterface.difference(sshinterface)), \"\\tItems unique to the old gui\")\n",
    "print(len(sshinterface.intersection(old_webinterface)), \"\\tItems shared by both files\")"
   ]
  },
  {
   "cell_type": "code",
   "execution_count": null,
   "metadata": {
    "collapsed": false,
    "deletable": true,
    "editable": true,
    "scrolled": true
   },
   "outputs": [],
   "source": [
    "# Old vs New webinterface\n",
    "\n",
    "print(len(new_webinterface), \"\\tItems via new gui\")\n",
    "print(len(old_webinterface), \"\\tItems via old gui\")\n",
    "print(len(new_webinterface.difference(old_webinterface)), \"\\tItems unique to the new gui\")\n",
    "print(len(old_webinterface.difference(new_webinterface)), \"\\tItems unique to the old gui\")\n",
    "print(len(new_webinterface.intersection(old_webinterface)), \"\\tItems shared by both files\")"
   ]
  },
  {
   "cell_type": "code",
   "execution_count": null,
   "metadata": {
    "collapsed": true,
    "deletable": true,
    "editable": true
   },
   "outputs": [],
   "source": [
    "%matplotlib inline\n",
    "import numpy as np\n",
    "import pandas as pd\n",
    "from matplotlib import pyplot as plt\n",
    "from matplotlib_venn import venn2, venn3"
   ]
  },
  {
   "cell_type": "code",
   "execution_count": null,
   "metadata": {
    "collapsed": false,
    "deletable": true,
    "editable": true
   },
   "outputs": [],
   "source": [
    "venn2([new_webinterface, old_webinterface], ('new_gui', 'old_gui'))"
   ]
  },
  {
   "cell_type": "code",
   "execution_count": null,
   "metadata": {
    "collapsed": false,
    "deletable": true,
    "editable": true
   },
   "outputs": [],
   "source": [
    "venn2([new_webinterface, sshinterface], ('gui', 'ssh'))"
   ]
  },
  {
   "cell_type": "code",
   "execution_count": null,
   "metadata": {
    "collapsed": false,
    "deletable": true,
    "editable": true
   },
   "outputs": [],
   "source": [
    "venn3([sshinterface, old_ssh, new_webinterface], ('new_ssh', 'old_ssh', 'gui'))"
   ]
  },
  {
   "cell_type": "code",
   "execution_count": null,
   "metadata": {
    "collapsed": false,
    "deletable": true,
    "editable": true
   },
   "outputs": [],
   "source": [
    "# show ten items unique to the webinterface file\n",
    "\n",
    "count = 0\n",
    "for item in new_webinterface.difference(sshinterface):\n",
    "    print(item)\n",
    "    count += 1\n",
    "    if count > 10:\n",
    "        break"
   ]
  },
  {
   "cell_type": "code",
   "execution_count": null,
   "metadata": {
    "collapsed": false,
    "deletable": true,
    "editable": true
   },
   "outputs": [],
   "source": [
    "# show ten items unique to the ssh file\n",
    "\n",
    "count = 0\n",
    "for item in sshinterface.difference(new_webinterface):\n",
    "    print(item)\n",
    "    count += 1\n",
    "    if count > 10:\n",
    "        break"
   ]
  },
  {
   "cell_type": "code",
   "execution_count": null,
   "metadata": {
    "collapsed": false,
    "deletable": true,
    "editable": true
   },
   "outputs": [],
   "source": [
    "old_overlap = sshinterface.difference(old_webinterface)\n",
    "new_overlap = sshinterface.difference(new_webinterface)\n",
    "\n",
    "print(len(old_overlap.difference(new_overlap)))\n",
    "print(len(new_overlap.difference(old_overlap)))"
   ]
  },
  {
   "cell_type": "code",
   "execution_count": null,
   "metadata": {
    "collapsed": true,
    "deletable": true,
    "editable": true
   },
   "outputs": [],
   "source": []
  },
  {
   "cell_type": "code",
   "execution_count": null,
   "metadata": {
    "collapsed": true,
    "deletable": true,
    "editable": true
   },
   "outputs": [],
   "source": []
  },
  {
   "cell_type": "code",
   "execution_count": null,
   "metadata": {
    "collapsed": true,
    "deletable": true,
    "editable": true
   },
   "outputs": [],
   "source": []
  },
  {
   "cell_type": "code",
   "execution_count": null,
   "metadata": {
    "collapsed": true,
    "deletable": true,
    "editable": true
   },
   "outputs": [],
   "source": []
  }
 ],
 "metadata": {
  "kernelspec": {
   "display_name": "Python 3",
   "language": "python",
   "name": "python3"
  },
  "language_info": {
   "codemirror_mode": {
    "name": "ipython",
    "version": 3
   },
   "file_extension": ".py",
   "mimetype": "text/x-python",
   "name": "python",
   "nbconvert_exporter": "python",
   "pygments_lexer": "ipython3",
   "version": "3.5.2"
  }
 },
 "nbformat": 4,
 "nbformat_minor": 2
}
