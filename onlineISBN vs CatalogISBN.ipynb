{
 "cells": [
  {
   "cell_type": "code",
   "execution_count": 1,
   "metadata": {
    "collapsed": true,
    "deletable": true,
    "editable": true
   },
   "outputs": [],
   "source": [
    "import os\n",
    "import re"
   ]
  },
  {
   "cell_type": "code",
   "execution_count": 2,
   "metadata": {
    "collapsed": true,
    "deletable": true,
    "editable": true
   },
   "outputs": [],
   "source": [
    "ISBNregex = re.compile(r'(\\b\\d{13}\\b)|(\\b\\d{9}[\\d|X]\\b)')"
   ]
  },
  {
   "cell_type": "code",
   "execution_count": 3,
   "metadata": {
    "collapsed": false,
    "deletable": true,
    "editable": true
   },
   "outputs": [],
   "source": [
    "\n",
    "# The script assumes the two files (onlineISBN.txt and CatalogISBNs.txt) are in a folder \"CatalogFiles\"\n",
    "\n",
    "\n",
    "with open('CatalogFiles/onlineISBN.txt', 'r') as f:\n",
    "    lines = f.readlines()\n",
    "sshinterface = set()\n",
    "for line in lines:\n",
    "    sshinterface.update(set(i for tuple in ISBNregex.findall(line) for i in tuple if i))\n",
    "\n",
    "with open('CatalogFiles/CatalogOnline201704.txt', 'r') as f:\n",
    "    lines = f.readlines()\n",
    "new_webinterface = set()\n",
    "for line in lines:\n",
    "    new_webinterface.update(set(i for tuple in ISBNregex.findall(line) for i in tuple if i))\n",
    "\n",
    "with open('source_material/legacy/CatalogISBNs.txt', 'r') as f:\n",
    "    lines = f.readlines()\n",
    "old_webinterface = set()\n",
    "for line in lines:\n",
    "    old_webinterface.update(set(i for tuple in ISBNregex.findall(line) for i in tuple if i))"
   ]
  },
  {
   "cell_type": "code",
   "execution_count": 4,
   "metadata": {
    "collapsed": false,
    "deletable": true,
    "editable": true
   },
   "outputs": [
    {
     "name": "stdout",
     "output_type": "stream",
     "text": [
      "223708 \tItems via ssh\n",
      "583294 \tItems via new gui\n",
      "18542 \tItems unique to the ssh\n",
      "378128 \tItems unique to the new gui\n",
      "205166 \tItems shared by both files\n"
     ]
    }
   ],
   "source": [
    "# New webinterface vs ssh\n",
    "\n",
    "print(len(sshinterface), \"\\tItems via ssh\")\n",
    "print(len(new_webinterface), \"\\tItems via new gui\")\n",
    "print(len(sshinterface.difference(new_webinterface)), \"\\tItems unique to the ssh\")\n",
    "print(len(new_webinterface.difference(sshinterface)), \"\\tItems unique to the new gui\")\n",
    "print(len(sshinterface.intersection(new_webinterface)), \"\\tItems shared by both files\")"
   ]
  },
  {
   "cell_type": "code",
   "execution_count": 5,
   "metadata": {
    "collapsed": false
   },
   "outputs": [
    {
     "name": "stdout",
     "output_type": "stream",
     "text": [
      "223708 \tItems via ssh\n",
      "588238 \tItems via old gui\n",
      "6175 \tItems unique to the ssh\n",
      "370705 \tItems unique to the old gui\n",
      "217533 \tCount of items shared by both files\n"
     ]
    }
   ],
   "source": [
    "# Old webinterface vs ssh\n",
    "\n",
    "print(len(sshinterface), \"\\tItems via ssh\")\n",
    "print(len(old_webinterface), \"\\tItems via old gui\")\n",
    "print(len(sshinterface.difference(old_webinterface)), \"\\tItems unique to the ssh\")\n",
    "print(len(old_webinterface.difference(sshinterface)), \"\\tItems unique to the old gui\")\n",
    "print(len(sshinterface.intersection(old_webinterface)), \"\\tCount of items shared by both files\")"
   ]
  },
  {
   "cell_type": "code",
   "execution_count": 6,
   "metadata": {
    "collapsed": false
   },
   "outputs": [
    {
     "name": "stdout",
     "output_type": "stream",
     "text": [
      "583294 \tItems via new gui\n",
      "588238 \tItems via old gui\n",
      "19220 \tItems unique to the new gui\n",
      "24164 \tItems unique to the old gui\n",
      "564074 \tItems shared by both files\n"
     ]
    }
   ],
   "source": [
    "# Old vs New webinterface\n",
    "\n",
    "print(len(new_webinterface), \"\\tItems via new gui\")\n",
    "print(len(old_webinterface), \"\\tItems via old gui\")\n",
    "print(len(new_webinterface.difference(old_webinterface)), \"\\tItems unique to the new gui\")\n",
    "print(len(old_webinterface.difference(new_webinterface)), \"\\tItems unique to the old gui\")\n",
    "print(len(new_webinterface.intersection(old_webinterface)), \"\\tItems shared by both files\")"
   ]
  },
  {
   "cell_type": "code",
   "execution_count": 7,
   "metadata": {
    "collapsed": false,
    "deletable": true,
    "editable": true
   },
   "outputs": [
    {
     "name": "stdout",
     "output_type": "stream",
     "text": [
      "9780813935294\n",
      "9780471467809\n",
      "0748611533\n",
      "1118025784\n",
      "9780898716962\n",
      "9780415049658\n",
      "3642204325\n",
      "9780203087336\n",
      "9780807131619\n",
      "0080922074\n",
      "0812208919\n"
     ]
    }
   ],
   "source": [
    "# show ten items unique to the webinterface file\n",
    "\n",
    "count = 0\n",
    "for item in new_webinterface.difference(sshinterface):\n",
    "    print(item)\n",
    "    count += 1\n",
    "    if count > 10:\n",
    "        break"
   ]
  },
  {
   "cell_type": "code",
   "execution_count": 8,
   "metadata": {
    "collapsed": false,
    "deletable": true,
    "editable": true
   },
   "outputs": [
    {
     "name": "stdout",
     "output_type": "stream",
     "text": [
      "9780818681479\n",
      "9780818684708\n",
      "9780769534046\n",
      "9780780327979\n",
      "9780769524849\n",
      "9780780324404\n",
      "9781479908073\n",
      "9780780382374\n",
      "9780738159973\n",
      "9781849190039\n",
      "9781559373685\n"
     ]
    }
   ],
   "source": [
    "# show ten items unique to the ssh file\n",
    "\n",
    "count = 0\n",
    "for item in sshinterface.difference(new_webinterface):\n",
    "    print(item)\n",
    "    count += 1\n",
    "    if count > 10:\n",
    "        break"
   ]
  },
  {
   "cell_type": "code",
   "execution_count": null,
   "metadata": {
    "collapsed": true
   },
   "outputs": [],
   "source": []
  }
 ],
 "metadata": {
  "kernelspec": {
   "display_name": "Python 3",
   "language": "python",
   "name": "python3"
  },
  "language_info": {
   "codemirror_mode": {
    "name": "ipython",
    "version": 3
   },
   "file_extension": ".py",
   "mimetype": "text/x-python",
   "name": "python",
   "nbconvert_exporter": "python",
   "pygments_lexer": "ipython3",
   "version": "3.5.2"
  }
 },
 "nbformat": 4,
 "nbformat_minor": 2
}
