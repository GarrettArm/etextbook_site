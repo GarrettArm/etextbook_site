{
 "cells": [
  {
   "cell_type": "code",
   "execution_count": 1,
   "metadata": {
    "collapsed": true,
    "deletable": true,
    "editable": true
   },
   "outputs": [],
   "source": [
    "import os\n",
    "import re"
   ]
  },
  {
   "cell_type": "code",
   "execution_count": 2,
   "metadata": {
    "collapsed": true,
    "deletable": true,
    "editable": true
   },
   "outputs": [],
   "source": [
    "ISBNregex = re.compile(r'(\\b\\d{13}\\b)|(\\b\\d{9}[\\d|X]\\b)')"
   ]
  },
  {
   "cell_type": "code",
   "execution_count": 3,
   "metadata": {
    "collapsed": false,
    "deletable": true,
    "editable": true
   },
   "outputs": [],
   "source": [
    "\n",
    "# The script assumes the two files (onlineISBN.txt and CatalogISBNs.txt) are in a folder \"CatalogFiles\"\n",
    "\n",
    "\n",
    "with open('CatalogFiles/onlineISBN.txt', 'r') as f:\n",
    "    lines = f.readlines()\n",
    "onlineisbn_set = set()\n",
    "for line in lines:\n",
    "    onlineisbn_set.update(set(i for tuple in ISBNregex.findall(line) for i in tuple if i))\n",
    "\n",
    "with open('CatalogFiles/CatalogOnline201704.txt', 'r') as f:\n",
    "    lines = f.readlines()\n",
    "catalogisbn_set = set()\n",
    "for line in lines:\n",
    "    catalogisbn_set.update(set(i for tuple in ISBNregex.findall(line) for i in tuple if i))"
   ]
  },
  {
   "cell_type": "code",
   "execution_count": 4,
   "metadata": {
    "collapsed": false,
    "deletable": true,
    "editable": true
   },
   "outputs": [
    {
     "name": "stdout",
     "output_type": "stream",
     "text": [
      "223708 \tCount of items in file pulled via ssh\n",
      "583294 \tCount of items in file pullied via web interface\n",
      "18542 \tCount of items unique to the ssh file\n",
      "378128 \tCount of items unique to the web interface file\n",
      "205166 \tCount of items shared by both files\n"
     ]
    }
   ],
   "source": [
    "print(len(onlineisbn_set), \"\\tCount of items in file pulled via ssh\")\n",
    "print(len(catalogisbn_set), \"\\tCount of items in file pullied via web interface\")\n",
    "print(len(onlineisbn_set.difference(catalogisbn_set)), \"\\tCount of items unique to the ssh file\")\n",
    "print(len(catalogisbn_set.difference(onlineisbn_set)), \"\\tCount of items unique to the web interface file\")\n",
    "print(len(onlineisbn_set.intersection(catalogisbn_set)), \"\\tCount of items shared by both files\")"
   ]
  },
  {
   "cell_type": "code",
   "execution_count": 5,
   "metadata": {
    "collapsed": false,
    "deletable": true,
    "editable": true
   },
   "outputs": [
    {
     "name": "stdout",
     "output_type": "stream",
     "text": [
      "0870813986\n",
      "0470988584\n",
      "0691117128\n",
      "1118622510\n",
      "1611689619\n",
      "9783540336556\n",
      "0820321567\n",
      "0387722505\n",
      "3642177581\n",
      "9780814719718\n",
      "155849524X\n"
     ]
    }
   ],
   "source": [
    "# show ten items unique to the webinterface file\n",
    "\n",
    "count = 0\n",
    "for item in catalogisbn_set.difference(onlineisbn_set):\n",
    "    print(item)\n",
    "    count += 1\n",
    "    if count > 10:\n",
    "        break"
   ]
  },
  {
   "cell_type": "code",
   "execution_count": 6,
   "metadata": {
    "collapsed": false,
    "deletable": true,
    "editable": true
   },
   "outputs": [
    {
     "name": "stdout",
     "output_type": "stream",
     "text": [
      "9781424417551\n",
      "9780769532905\n",
      "9780780373488\n",
      "9780780395077\n",
      "9781559371995\n",
      "9781467352154\n",
      "9780818623004\n",
      "9781424427741\n",
      "9780780352353\n",
      "9780818620348\n",
      "9781424410705\n"
     ]
    }
   ],
   "source": [
    "# show ten items unique to the ssh file\n",
    "\n",
    "count = 0\n",
    "for item in onlineisbn_set.difference(catalogisbn_set):\n",
    "    print(item)\n",
    "    count += 1\n",
    "    if count > 10:\n",
    "        break"
   ]
  },
  {
   "cell_type": "code",
   "execution_count": null,
   "metadata": {
    "collapsed": true
   },
   "outputs": [],
   "source": []
  }
 ],
 "metadata": {
  "kernelspec": {
   "display_name": "Python 3",
   "language": "python",
   "name": "python3"
  },
  "language_info": {
   "codemirror_mode": {
    "name": "ipython",
    "version": 3
   },
   "file_extension": ".py",
   "mimetype": "text/x-python",
   "name": "python",
   "nbconvert_exporter": "python",
   "pygments_lexer": "ipython3",
   "version": "3.5.2"
  }
 },
 "nbformat": 4,
 "nbformat_minor": 2
}
